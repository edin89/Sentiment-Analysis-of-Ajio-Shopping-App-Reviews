{
  "cells": [
    {
      "attachments": {},
      "cell_type": "markdown",
      "metadata": {
        "id": "nqo9aiiNp-VH"
      },
      "source": [
        "<a id=\"DE\"></a>\n",
        "# Data Extraction"
      ]
    },
    {
      "attachments": {},
      "cell_type": "markdown",
      "metadata": {
        "id": "B4tuS7EHqLsh"
      },
      "source": [
        "<a id=\"WS\"></a>\n",
        "## Web Scraping"
      ]
    },
    {
      "cell_type": "code",
      "execution_count": 2,
      "metadata": {
        "id": "m5ZvY6HYor28"
      },
      "outputs": [],
      "source": [
        "from app_store_scraper import AppStore\n",
        "from google_play_scraper import reviews\n",
        "import csv\n",
        "import pandas as pd"
      ]
    },
    {
      "cell_type": "code",
      "execution_count": null,
      "metadata": {
        "id": "fcHTcwAbor3S"
      },
      "outputs": [],
      "source": [
        "from google_play_scraper import Sort, reviews_all"
      ]
    },
    {
      "cell_type": "code",
      "execution_count": null,
      "metadata": {
        "id": "EJ_oGcqvor3X"
      },
      "outputs": [],
      "source": [
        "result = reviews_all(\n",
        "    'com.ril.ajio',\n",
        "    sleep_milliseconds=0.010, # defaults to 0\n",
        "    lang='en', # defaults to 'en'\n",
        "    country='us', # defaults to 'us'\n",
        "    sort=Sort.MOST_RELEVANT, # defaults to Sort.MOST_RELEVANT\n",
        "    filter_score_with= None # defaults to None(means all score)\n",
        ")\n",
        "\n",
        "result = pd.DataFrame(result)\n",
        "\n",
        "ajio_ps = pd.DataFrame()\n",
        "ajio_ps['reviews']=result['content']\n",
        "ajio_ps['score']= result['score']"
      ]
    },
    {
      "cell_type": "code",
      "execution_count": null,
      "metadata": {
        "id": "eNWiytqgor3a"
      },
      "outputs": [],
      "source": [
        "from app_store_scraper import AppStore"
      ]
    },
    {
      "cell_type": "code",
      "execution_count": null,
      "metadata": {
        "id": "pt6yJA72or3d",
        "outputId": "f234caa5-70dd-4b1d-a01c-00dbe0adb820"
      },
      "outputs": [
        {
          "name": "stderr",
          "output_type": "stream",
          "text": [
            "2023-04-17 20:35:50,698 [INFO] Base - Initialised: AppStore('us', 'ajio', 1113425372)\n",
            "2023-04-17 20:35:50,700 [INFO] Base - Ready to fetch reviews from: https://apps.apple.com/us/app/ajio/id1113425372\n",
            "2023-04-17 20:35:53,218 [INFO] Base - [id:1113425372] Fetched 63 reviews (63 fetched in total)\n"
          ]
        }
      ],
      "source": [
        "ajio = AppStore(country='us', app_name='ajio', app_id=1113425372)\n",
        "results = ajio.review(sleep=0.010)\n",
        "\n",
        "results = pd.DataFrame(ajio.reviews)\n",
        "\n",
        "ajio_as = pd.DataFrame()\n",
        "ajio_as['reviews'] = results['review']\n",
        "ajio_as['score'] = results['rating']"
      ]
    },
    {
      "cell_type": "code",
      "execution_count": null,
      "metadata": {
        "id": "90CJEnE7or3h"
      },
      "outputs": [],
      "source": [
        "\n",
        "reviews_df = pd.concat([ajio_ps, ajio_as], ignore_index=True)\n",
        "\n",
        "reviews_df.to_csv('ajio_reviews.csv', index=False)"
      ]
    },
    {
      "cell_type": "code",
      "execution_count": 4,
      "metadata": {
        "colab": {
          "base_uri": "https://localhost:8080/",
          "height": 206
        },
        "id": "jfM6M_o7or3k",
        "outputId": "f5ae1d92-13cb-4260-bee4-339452d10254"
      },
      "outputs": [
        {
          "data": {
            "text/html": [
              "<div>\n",
              "<style scoped>\n",
              "    .dataframe tbody tr th:only-of-type {\n",
              "        vertical-align: middle;\n",
              "    }\n",
              "\n",
              "    .dataframe tbody tr th {\n",
              "        vertical-align: top;\n",
              "    }\n",
              "\n",
              "    .dataframe thead th {\n",
              "        text-align: right;\n",
              "    }\n",
              "</style>\n",
              "<table border=\"1\" class=\"dataframe\">\n",
              "  <thead>\n",
              "    <tr style=\"text-align: right;\">\n",
              "      <th></th>\n",
              "      <th>reviews</th>\n",
              "      <th>score</th>\n",
              "    </tr>\n",
              "  </thead>\n",
              "  <tbody>\n",
              "    <tr>\n",
              "      <th>0</th>\n",
              "      <td>Offers and products seems good while we browsi...</td>\n",
              "      <td>1</td>\n",
              "    </tr>\n",
              "    <tr>\n",
              "      <th>1</th>\n",
              "      <td>Nice shopping experience with one dissatisfact...</td>\n",
              "      <td>4</td>\n",
              "    </tr>\n",
              "    <tr>\n",
              "      <th>2</th>\n",
              "      <td>User interface is not good. Most of the times ...</td>\n",
              "      <td>1</td>\n",
              "    </tr>\n",
              "    <tr>\n",
              "      <th>3</th>\n",
              "      <td>Scrap the last update and bring the older vers...</td>\n",
              "      <td>1</td>\n",
              "    </tr>\n",
              "    <tr>\n",
              "      <th>4</th>\n",
              "      <td>I installed this app just to write this review...</td>\n",
              "      <td>1</td>\n",
              "    </tr>\n",
              "  </tbody>\n",
              "</table>\n",
              "</div>"
            ],
            "text/plain": [
              "                                             reviews  score\n",
              "0  Offers and products seems good while we browsi...      1\n",
              "1  Nice shopping experience with one dissatisfact...      4\n",
              "2  User interface is not good. Most of the times ...      1\n",
              "3  Scrap the last update and bring the older vers...      1\n",
              "4  I installed this app just to write this review...      1"
            ]
          },
          "execution_count": 4,
          "metadata": {},
          "output_type": "execute_result"
        }
      ],
      "source": [
        "df=pd.read_csv('E:/Capstone_1/ajio_reviews.csv')\n",
        "df.head()"
      ]
    },
    {
      "attachments": {},
      "cell_type": "markdown",
      "metadata": {
        "id": "kDvJ8jeQqmSK"
      },
      "source": [
        "<a id=\"Dc\"></a>\n",
        "##  Data Check"
      ]
    },
    {
      "cell_type": "code",
      "execution_count": 5,
      "metadata": {
        "colab": {
          "base_uri": "https://localhost:8080/"
        },
        "id": "t3lQAMcLor3o",
        "outputId": "1f57413e-99eb-43d8-eb67-576e94a9b78a"
      },
      "outputs": [
        {
          "name": "stdout",
          "output_type": "stream",
          "text": [
            "<class 'pandas.core.frame.DataFrame'>\n",
            "RangeIndex: 84240 entries, 0 to 84239\n",
            "Data columns (total 2 columns):\n",
            " #   Column   Non-Null Count  Dtype \n",
            "---  ------   --------------  ----- \n",
            " 0   reviews  84240 non-null  object\n",
            " 1   score    84240 non-null  int64 \n",
            "dtypes: int64(1), object(1)\n",
            "memory usage: 1.3+ MB\n"
          ]
        }
      ],
      "source": [
        "df.info()"
      ]
    },
    {
      "cell_type": "code",
      "execution_count": 6,
      "metadata": {
        "colab": {
          "base_uri": "https://localhost:8080/"
        },
        "id": "5715-q94or3q",
        "outputId": "96d8e2e0-1e60-4297-9d4d-5de92a13189e"
      },
      "outputs": [
        {
          "data": {
            "text/plain": [
              "reviews    0\n",
              "score      0\n",
              "dtype: int64"
            ]
          },
          "execution_count": 6,
          "metadata": {},
          "output_type": "execute_result"
        }
      ],
      "source": [
        "df.isnull().sum()"
      ]
    },
    {
      "cell_type": "code",
      "execution_count": 7,
      "metadata": {
        "colab": {
          "base_uri": "https://localhost:8080/"
        },
        "id": "gSN_9Ke1qq33",
        "outputId": "c14c7418-e082-4382-dd4a-18a49d43015c"
      },
      "outputs": [
        {
          "data": {
            "text/plain": [
              "1    43323\n",
              "5    22096\n",
              "4     8236\n",
              "3     5461\n",
              "2     5124\n",
              "Name: score, dtype: int64"
            ]
          },
          "execution_count": 7,
          "metadata": {},
          "output_type": "execute_result"
        }
      ],
      "source": [
        "df['score'].value_counts()"
      ]
    },
    {
      "attachments": {},
      "cell_type": "markdown",
      "metadata": {
        "id": "F9Wc_tstq6DG"
      },
      "source": [
        "<a id=\"SS\"></a>\n",
        "## Score to Sentiment"
      ]
    },
    {
      "cell_type": "code",
      "execution_count": 8,
      "metadata": {
        "id": "wmdnPkQBq_TB"
      },
      "outputs": [],
      "source": [
        "def sentiment(df):\n",
        "    df['sentiment']='-'\n",
        "    df.loc[df['score']<=2,'sentiment']='negative'\n",
        "    df.loc[df['score']==3,'sentiment']='neutral'\n",
        "    df.loc[df['score']>=4,'sentiment']='positive'\n",
        "    \n",
        "    df = pd.get_dummies(df,columns=['sentiment']).reset_index(drop=True).drop(columns=['score'])\n",
        "    return df"
      ]
    },
    {
      "cell_type": "code",
      "execution_count": 9,
      "metadata": {
        "id": "bS31GrcmrEPA"
      },
      "outputs": [],
      "source": [
        "df = sentiment(df)"
      ]
    },
    {
      "cell_type": "code",
      "execution_count": 10,
      "metadata": {
        "colab": {
          "base_uri": "https://localhost:8080/",
          "height": 206
        },
        "id": "nRpL706orFxq",
        "outputId": "b0581065-f3ab-4c1a-cf8b-ed2eb09fd7a2"
      },
      "outputs": [
        {
          "data": {
            "text/html": [
              "<div>\n",
              "<style scoped>\n",
              "    .dataframe tbody tr th:only-of-type {\n",
              "        vertical-align: middle;\n",
              "    }\n",
              "\n",
              "    .dataframe tbody tr th {\n",
              "        vertical-align: top;\n",
              "    }\n",
              "\n",
              "    .dataframe thead th {\n",
              "        text-align: right;\n",
              "    }\n",
              "</style>\n",
              "<table border=\"1\" class=\"dataframe\">\n",
              "  <thead>\n",
              "    <tr style=\"text-align: right;\">\n",
              "      <th></th>\n",
              "      <th>reviews</th>\n",
              "      <th>sentiment_negative</th>\n",
              "      <th>sentiment_neutral</th>\n",
              "      <th>sentiment_positive</th>\n",
              "    </tr>\n",
              "  </thead>\n",
              "  <tbody>\n",
              "    <tr>\n",
              "      <th>0</th>\n",
              "      <td>Offers and products seems good while we browsi...</td>\n",
              "      <td>1</td>\n",
              "      <td>0</td>\n",
              "      <td>0</td>\n",
              "    </tr>\n",
              "    <tr>\n",
              "      <th>1</th>\n",
              "      <td>Nice shopping experience with one dissatisfact...</td>\n",
              "      <td>0</td>\n",
              "      <td>0</td>\n",
              "      <td>1</td>\n",
              "    </tr>\n",
              "    <tr>\n",
              "      <th>2</th>\n",
              "      <td>User interface is not good. Most of the times ...</td>\n",
              "      <td>1</td>\n",
              "      <td>0</td>\n",
              "      <td>0</td>\n",
              "    </tr>\n",
              "    <tr>\n",
              "      <th>3</th>\n",
              "      <td>Scrap the last update and bring the older vers...</td>\n",
              "      <td>1</td>\n",
              "      <td>0</td>\n",
              "      <td>0</td>\n",
              "    </tr>\n",
              "    <tr>\n",
              "      <th>4</th>\n",
              "      <td>I installed this app just to write this review...</td>\n",
              "      <td>1</td>\n",
              "      <td>0</td>\n",
              "      <td>0</td>\n",
              "    </tr>\n",
              "  </tbody>\n",
              "</table>\n",
              "</div>"
            ],
            "text/plain": [
              "                                             reviews  sentiment_negative  \\\n",
              "0  Offers and products seems good while we browsi...                   1   \n",
              "1  Nice shopping experience with one dissatisfact...                   0   \n",
              "2  User interface is not good. Most of the times ...                   1   \n",
              "3  Scrap the last update and bring the older vers...                   1   \n",
              "4  I installed this app just to write this review...                   1   \n",
              "\n",
              "   sentiment_neutral  sentiment_positive  \n",
              "0                  0                   0  \n",
              "1                  0                   1  \n",
              "2                  0                   0  \n",
              "3                  0                   0  \n",
              "4                  0                   0  "
            ]
          },
          "execution_count": 10,
          "metadata": {},
          "output_type": "execute_result"
        }
      ],
      "source": [
        "df.head()"
      ]
    },
    {
      "attachments": {},
      "cell_type": "markdown",
      "metadata": {
        "id": "bsbnPhwKYw13"
      },
      "source": [
        "<a id=\"TP\"></a>\n",
        "# 5 - Text Processing "
      ]
    },
    {
      "attachments": {},
      "cell_type": "markdown",
      "metadata": {
        "id": "dlakmif9Yw14"
      },
      "source": [
        "<a id=\"RHTML\"></a>\n",
        "## 5.1 - Lowercase and Remove HTML"
      ]
    },
    {
      "attachments": {},
      "cell_type": "markdown",
      "metadata": {
        "id": "77EMVrykYw15"
      },
      "source": [
        "For lowercase and remove the html as in almost all of the nexts functions we will use the Regular Expressions."
      ]
    },
    {
      "cell_type": "code",
      "execution_count": 11,
      "metadata": {
        "id": "TJ7YAnWCYw15",
        "trusted": true
      },
      "outputs": [],
      "source": [
        "import re"
      ]
    },
    {
      "cell_type": "code",
      "execution_count": 12,
      "metadata": {
        "id": "GP5UyKmvYw16",
        "trusted": true
      },
      "outputs": [],
      "source": [
        "TAG_RE = re.compile(r'<[^>]+>')\n",
        "\n",
        "def re_tags(text_list): #define remove tag funtion\n",
        "    return [TAG_RE.sub('', str(word)).lower() for word in text_list]"
      ]
    },
    {
      "attachments": {},
      "cell_type": "markdown",
      "metadata": {
        "id": "W1XzfOe-Yw16"
      },
      "source": [
        "<a id=\"RAC\"></a>\n",
        "## 5.2 - Removing Accented Characters"
      ]
    },
    {
      "attachments": {},
      "cell_type": "markdown",
      "metadata": {
        "id": "pv1lsWzNYw17"
      },
      "source": [
        "For remove the accented characters we will use the module and unidecode"
      ]
    },
    {
      "cell_type": "code",
      "execution_count": 13,
      "metadata": {
        "id": "tjsyrbM1Yw17",
        "trusted": true
      },
      "outputs": [],
      "source": [
        "import unidecode"
      ]
    },
    {
      "cell_type": "code",
      "execution_count": 14,
      "metadata": {
        "id": "NeuEp4aXYw18",
        "trusted": true
      },
      "outputs": [],
      "source": [
        "def re_accented_char(text_list):\n",
        "   \n",
        "    return [unidecode.unidecode(word.encode().decode('utf-8')) for word in text_list]"
      ]
    },
    {
      "attachments": {},
      "cell_type": "markdown",
      "metadata": {
        "id": "7ut99JIGYw19"
      },
      "source": [
        "<a id=\"EC\"></a>\n",
        "## 5.3 - Extended Contractions "
      ]
    },
    {
      "cell_type": "code",
      "execution_count": 15,
      "metadata": {
        "id": "H73GqikyYw1-",
        "trusted": true
      },
      "outputs": [],
      "source": [
        "def ex_contractions(text_list):\n",
        "    result=[]\n",
        "    for word in text_list:\n",
        "        # replace contracting withoutsignal\n",
        "        word = word.replace(\"wont\",\"won't\")\n",
        "        word = word.replace(\"cant\",\"can't\")\n",
        "        word = word.replace(\"its\",\"it's\")\n",
        "        word = word.replace(\"youre\",\"you're\")\n",
        "        word = word.replace(\"hes\",\"he's\")\n",
        "        word = word.replace(\"shes\",\"she's\")\n",
        "        word = word.replace(\"its\",\"it's\")\n",
        "        word = word.replace(\"weare\",\"we're\")\n",
        "        word = word.replace(\"theyre\",\"they're\")\n",
        "\n",
        "        # specific\n",
        "        word = re.sub(r\"won\\'t\", \"will not\", str(word))\n",
        "        word = re.sub(r\"can\\'t\", \"can not\", str(word))\n",
        "\n",
        "        # general\n",
        "        word = re.sub(r\"n\\'t\", \" not\", str(word))\n",
        "        word = re.sub(r\"\\'re\", \" are\", str(word))\n",
        "        word = re.sub(r\"\\'s\", \" is\", str(word))\n",
        "        word = re.sub(r\"\\'d\", \" would\", str(word))\n",
        "        word = re.sub(r\"\\'ll\", \" will\", str(word))\n",
        "        word = re.sub(r\"\\'t\", \" not\", str(word))\n",
        "        word = re.sub(r\"\\'ve\", \" have\", str(word))\n",
        "        word = re.sub(r\"\\'m\", \" am\", str(word))\n",
        "        result.append(word)\n",
        "    return result"
      ]
    },
    {
      "attachments": {},
      "cell_type": "markdown",
      "metadata": {
        "id": "TYUp9XLqYw1_"
      },
      "source": [
        "<a id=\"RSC\"></a>\n",
        "## 5.4 - Removing Special Characters"
      ]
    },
    {
      "cell_type": "code",
      "execution_count": 16,
      "metadata": {
        "id": "NWhy1YIUYw2B",
        "trusted": true
      },
      "outputs": [],
      "source": [
        "def re_special_chars(text_list):\n",
        "    return [re.sub(\"[^a-zA-Z0-9]\",\" \",word) for word in text_list]"
      ]
    },
    {
      "attachments": {},
      "cell_type": "markdown",
      "metadata": {
        "id": "Zhns_x4AYw2C"
      },
      "source": [
        "<a id=\"L\"></a>\n",
        "## 5.5 - Lemmatization"
      ]
    },
    {
      "cell_type": "code",
      "execution_count": 17,
      "metadata": {
        "id": "Fo9AysUEYw2D",
        "trusted": true
      },
      "outputs": [],
      "source": [
        "from nltk.stem import WordNetLemmatizer "
      ]
    },
    {
      "cell_type": "code",
      "execution_count": 18,
      "metadata": {
        "id": "FyCLRwYVYw2E",
        "trusted": true
      },
      "outputs": [],
      "source": [
        "def lemmatize_text(text_list):\n",
        "    wnl = WordNetLemmatizer()\n",
        "    lemmatizer_sentence = []  \n",
        "    tokenizer=nltk.tokenize.WhitespaceTokenizer()\n",
        "    for word in tokenizer.tokenize(text_list):\n",
        "        lemmatizer_sentence.append(wnl.lemmatize(word,'v'))\n",
        "        lemmatizer_sentence.append(\" \")\n",
        "    \n",
        "    return(\"\".join(lemmatizer_sentence))"
      ]
    },
    {
      "attachments": {},
      "cell_type": "markdown",
      "metadata": {
        "id": "k03Asg-CYw2F"
      },
      "source": [
        "<a id=\"RSW\"></a>\n",
        "## 5.6 - Removing Stop Words"
      ]
    },
    {
      "cell_type": "code",
      "execution_count": 19,
      "metadata": {
        "id": "tGfX9Hv7Yw2G",
        "trusted": true
      },
      "outputs": [],
      "source": [
        "import nltk"
      ]
    },
    {
      "cell_type": "code",
      "execution_count": 20,
      "metadata": {
        "id": "juprgJLqYw2H",
        "trusted": true
      },
      "outputs": [],
      "source": [
        "from nltk.corpus import stopwords"
      ]
    },
    {
      "cell_type": "code",
      "execution_count": 21,
      "metadata": {
        "id": "JwFeEt5dYw2H",
        "trusted": true
      },
      "outputs": [],
      "source": [
        "def stopwords_text(text_list):\n",
        "    stop = stopwords.words('english')\n",
        "    sentence_without = []\n",
        "    tokenizer=nltk.tokenize.WhitespaceTokenizer()\n",
        "    for word in tokenizer.tokenize(text_list):\n",
        "        if word not in stop:\n",
        "            sentence_without.append(word)\n",
        "            sentence_without.append(\" \")\n",
        "            \n",
        "    return(\"\".join(sentence_without))"
      ]
    },
    {
      "attachments": {},
      "cell_type": "markdown",
      "metadata": {
        "id": "revufP8rYw2I"
      },
      "source": [
        "<a id=\"CEW\"></a>\n",
        "## 5.7 - Checking If Is An English Word"
      ]
    },
    {
      "cell_type": "code",
      "execution_count": 22,
      "metadata": {
        "colab": {
          "base_uri": "https://localhost:8080/"
        },
        "id": "hEMom5uvYw2J",
        "outputId": "4ecf5bba-35f9-4aed-8297-2ed2ee22b938"
      },
      "outputs": [
        {
          "name": "stderr",
          "output_type": "stream",
          "text": [
            "[nltk_data] Downloading package words to\n",
            "[nltk_data]     C:\\Users\\HP\\AppData\\Roaming\\nltk_data...\n",
            "[nltk_data]   Package words is already up-to-date!\n"
          ]
        },
        {
          "data": {
            "text/plain": [
              "True"
            ]
          },
          "execution_count": 22,
          "metadata": {},
          "output_type": "execute_result"
        }
      ],
      "source": [
        "import nltk\n",
        "nltk.download('words')"
      ]
    },
    {
      "cell_type": "code",
      "execution_count": 23,
      "metadata": {
        "id": "KBLibBSgYw2K",
        "trusted": true
      },
      "outputs": [],
      "source": [
        "words=set(nltk.corpus.words.words())\n",
        "\n",
        "def word_check(text_list):\n",
        "    result=[]\n",
        "    for word in text_list:\n",
        "        if word.lower() in words:\n",
        "            result.append(word)\n",
        "    return result"
      ]
    },
    {
      "attachments": {},
      "cell_type": "markdown",
      "metadata": {
        "id": "Ev37DRIUYw2L"
      },
      "source": [
        "<a id=\"RDDWS\"></a>\n",
        "## 5.8 -  Removing Digits And Duplicates White Spaces"
      ]
    },
    {
      "cell_type": "code",
      "execution_count": 24,
      "metadata": {
        "id": "Td_eue4pYw2N",
        "trusted": true
      },
      "outputs": [],
      "source": [
        "def re_whitespaces(text_list): \n",
        "    result=[]\n",
        "    for word in text_list:\n",
        "        word=(re.sub(r'\\d','dig',str(word))) #remove numbers \n",
        "        word = (re.sub(r'\\s+',' ', str(word))) #remove duplicates white spacces\n",
        "        result.append(word)\n",
        "    return result"
      ]
    },
    {
      "cell_type": "code",
      "execution_count": 25,
      "metadata": {
        "id": "tchLM2ThYw2O",
        "trusted": true
      },
      "outputs": [],
      "source": [
        "# Removing blank comments\n",
        "df = df[df['reviews']!='']"
      ]
    },
    {
      "attachments": {},
      "cell_type": "markdown",
      "metadata": {
        "id": "_qavA9ZqYw2P"
      },
      "source": [
        "<a id=\"Pipeline\"></a>\n",
        "# 6 - Pipeline"
      ]
    },
    {
      "cell_type": "code",
      "execution_count": 26,
      "metadata": {
        "id": "Ze1jtNtQxAyn",
        "trusted": true
      },
      "outputs": [],
      "source": [
        "from sklearn.pipeline import Pipeline\n",
        "from sklearn.base import BaseEstimator, TransformerMixin"
      ]
    },
    {
      "cell_type": "code",
      "execution_count": 27,
      "metadata": {
        "id": "uinjg1r8Yw2V",
        "trusted": true
      },
      "outputs": [],
      "source": [
        "# Class for regular expressions application\n",
        "class ApplyRegex(BaseEstimator, TransformerMixin):\n",
        "    \n",
        "    def __init__(self, regex_transformers):\n",
        "        self.regex_transformers = regex_transformers\n",
        "        \n",
        "    def fit(self, X, y=None):\n",
        "        return self\n",
        "    \n",
        "    def transform(self, X, y=None):\n",
        "        # Applying all regex functions in the regex_transformers dictionary\n",
        "        for regex_name, regex_function in self.regex_transformers.items():\n",
        "            X = regex_function(X)\n",
        "            \n",
        "        return X"
      ]
    },
    {
      "cell_type": "code",
      "execution_count": 28,
      "metadata": {
        "id": "tLshZZnWxAyo",
        "trusted": true
      },
      "outputs": [],
      "source": [
        "class StopWordsRemoval(BaseEstimator, TransformerMixin):\n",
        "    \n",
        "    def __init__(self, text_stopwords):\n",
        "        self.text_stopwords = text_stopwords\n",
        "    def fit(self, X, y=None):\n",
        "        return self\n",
        "    def transform(self, X, y=None):\n",
        "        return [self.text_stopwords(comment) for comment in X]"
      ]
    },
    {
      "cell_type": "code",
      "execution_count": 29,
      "metadata": {
        "id": "nK7D2cd_xAyp",
        "trusted": true
      },
      "outputs": [],
      "source": [
        "class LemmatizeProcess(BaseEstimator, TransformerMixin):\n",
        "    \n",
        "    def __init__(self, Lemmatize):\n",
        "        self.Lemmatizer = Lemmatize\n",
        "    \n",
        "    def fit(self, X, y=None):\n",
        "        return self\n",
        "    \n",
        "    def transform(self, X, y=None):\n",
        "        return [self.Lemmatizer(comment) for comment in X]"
      ]
    },
    {
      "attachments": {},
      "cell_type": "markdown",
      "metadata": {
        "id": "mGqXQnMDxAyw"
      },
      "source": [
        "Now we are going to define a dictionary for all the regular expressions functions and then define the text preprocessing pipeline with the classes above the defined."
      ]
    },
    {
      "cell_type": "code",
      "execution_count": 30,
      "metadata": {
        "colab": {
          "base_uri": "https://localhost:8080/"
        },
        "id": "aWUArWPWxAyx",
        "outputId": "d2bfd591-3a10-4d01-e7ee-a030513860db"
      },
      "outputs": [
        {
          "name": "stderr",
          "output_type": "stream",
          "text": [
            "[nltk_data] Downloading package stopwords to\n",
            "[nltk_data]     C:\\Users\\HP\\AppData\\Roaming\\nltk_data...\n",
            "[nltk_data]   Package stopwords is already up-to-date!\n",
            "[nltk_data] Downloading package wordnet to\n",
            "[nltk_data]     C:\\Users\\HP\\AppData\\Roaming\\nltk_data...\n",
            "[nltk_data]   Package wordnet is already up-to-date!\n"
          ]
        },
        {
          "data": {
            "text/plain": [
              "True"
            ]
          },
          "execution_count": 30,
          "metadata": {},
          "output_type": "execute_result"
        }
      ],
      "source": [
        "import nltk\n",
        "nltk.download('stopwords')\n",
        "nltk.download('wordnet')"
      ]
    },
    {
      "cell_type": "code",
      "execution_count": 31,
      "metadata": {
        "id": "0f7qRAymxAyy",
        "trusted": true
      },
      "outputs": [],
      "source": [
        "# Defining regex transformers to be applied\n",
        "regex_transformers = {\n",
        "    'remove_tags': re_tags,\n",
        "    'remove_accents': re_accented_char,\n",
        "    'decontracted': ex_contractions,\n",
        "    're_sc': re_special_chars,\n",
        "    'whitespaces': re_whitespaces\n",
        "}\n",
        "\n",
        "# Building a text prep pipeline\n",
        "text_prep_pipeline = Pipeline([\n",
        "    ('regex', ApplyRegex(regex_transformers)),\n",
        "    ('stopwords', StopWordsRemoval(stopwords_text)),\n",
        "    ('lemmatize', LemmatizeProcess(lemmatize_text)),\n",
        "])"
      ]
    },
    {
      "attachments": {},
      "cell_type": "markdown",
      "metadata": {
        "id": "zkU5ieSOxAyz"
      },
      "source": [
        "Now we can apply the pipeline into the reviews column."
      ]
    },
    {
      "cell_type": "code",
      "execution_count": 32,
      "metadata": {
        "id": "ICChOwVxYw2Z",
        "trusted": true
      },
      "outputs": [],
      "source": [
        "df['reviews'] = text_prep_pipeline.fit_transform(df[df.columns[:1]].values)"
      ]
    },
    {
      "attachments": {},
      "cell_type": "markdown",
      "metadata": {
        "id": "RfhbW-PwYw2a"
      },
      "source": [
        "<a id=\"Plot\"></a>\n",
        "# 7 - Plot"
      ]
    },
    {
      "attachments": {},
      "cell_type": "markdown",
      "metadata": {
        "id": "-kOHugIZYw2a"
      },
      "source": [
        "For a good understanding of the Ajio reviews we are going to plot the text in two different ways.\n",
        " \n",
        "   * First we will plot the distribution of the sentiments using pie graph express plot from plotly.  \n",
        "   * The second plot  is a bar plot for the n-gram, which is a sequence of n words most common shown together. We will plot the 1 grams, 2 grams, 3 grams and 4 grams for each sentiment."
      ]
    },
    {
      "attachments": {},
      "cell_type": "markdown",
      "metadata": {
        "id": "hOBMdd4wYw2b"
      },
      "source": [
        "<a id=\"SD\"></a>\n",
        "## 7. 1 - Sentiment Distribution"
      ]
    },
    {
      "attachments": {},
      "cell_type": "markdown",
      "metadata": {
        "id": "CXf8lulwYw2b"
      },
      "source": [
        "To plot the distribution of the sentiments in our df we will use the main df to plot the total of each sentiment in a pie graph using the library plotly.express. "
      ]
    },
    {
      "cell_type": "code",
      "execution_count": 33,
      "metadata": {
        "id": "3j8R_2NEor4Y"
      },
      "outputs": [],
      "source": [
        "import plotly.express as px"
      ]
    },
    {
      "cell_type": "code",
      "execution_count": 34,
      "metadata": {
        "id": "V_ruaIGoyrxZ"
      },
      "outputs": [],
      "source": [
        "total = pd.DataFrame(df[df.columns[1:]].sum()).rename(columns={0:'Total'})"
      ]
    },
    {
      "cell_type": "code",
      "execution_count": 35,
      "metadata": {
        "colab": {
          "base_uri": "https://localhost:8080/",
          "height": 542
        },
        "id": "aZcyCfmQyuoQ",
        "outputId": "2c591c92-51bf-4123-ac21-6acef3f30720"
      },
      "outputs": [
        {
          "data": {
            "application/vnd.plotly.v1+json": {
              "config": {
                "plotlyServerURL": "https://plot.ly"
              },
              "data": [
                {
                  "domain": {
                    "x": [
                      0,
                      1
                    ],
                    "y": [
                      0,
                      1
                    ]
                  },
                  "hovertemplate": "index=%{label}<br>Total=%{value}<extra></extra>",
                  "labels": [
                    "sentiment_negative",
                    "sentiment_neutral",
                    "sentiment_positive"
                  ],
                  "legendgroup": "",
                  "name": "",
                  "showlegend": true,
                  "type": "pie",
                  "values": [
                    48447,
                    5461,
                    30332
                  ]
                }
              ],
              "layout": {
                "legend": {
                  "tracegroupgap": 0
                },
                "margin": {
                  "t": 60
                },
                "template": {
                  "data": {
                    "bar": [
                      {
                        "error_x": {
                          "color": "#2a3f5f"
                        },
                        "error_y": {
                          "color": "#2a3f5f"
                        },
                        "marker": {
                          "line": {
                            "color": "#E5ECF6",
                            "width": 0.5
                          },
                          "pattern": {
                            "fillmode": "overlay",
                            "size": 10,
                            "solidity": 0.2
                          }
                        },
                        "type": "bar"
                      }
                    ],
                    "barpolar": [
                      {
                        "marker": {
                          "line": {
                            "color": "#E5ECF6",
                            "width": 0.5
                          },
                          "pattern": {
                            "fillmode": "overlay",
                            "size": 10,
                            "solidity": 0.2
                          }
                        },
                        "type": "barpolar"
                      }
                    ],
                    "carpet": [
                      {
                        "aaxis": {
                          "endlinecolor": "#2a3f5f",
                          "gridcolor": "white",
                          "linecolor": "white",
                          "minorgridcolor": "white",
                          "startlinecolor": "#2a3f5f"
                        },
                        "baxis": {
                          "endlinecolor": "#2a3f5f",
                          "gridcolor": "white",
                          "linecolor": "white",
                          "minorgridcolor": "white",
                          "startlinecolor": "#2a3f5f"
                        },
                        "type": "carpet"
                      }
                    ],
                    "choropleth": [
                      {
                        "colorbar": {
                          "outlinewidth": 0,
                          "ticks": ""
                        },
                        "type": "choropleth"
                      }
                    ],
                    "contour": [
                      {
                        "colorbar": {
                          "outlinewidth": 0,
                          "ticks": ""
                        },
                        "colorscale": [
                          [
                            0,
                            "#0d0887"
                          ],
                          [
                            0.1111111111111111,
                            "#46039f"
                          ],
                          [
                            0.2222222222222222,
                            "#7201a8"
                          ],
                          [
                            0.3333333333333333,
                            "#9c179e"
                          ],
                          [
                            0.4444444444444444,
                            "#bd3786"
                          ],
                          [
                            0.5555555555555556,
                            "#d8576b"
                          ],
                          [
                            0.6666666666666666,
                            "#ed7953"
                          ],
                          [
                            0.7777777777777778,
                            "#fb9f3a"
                          ],
                          [
                            0.8888888888888888,
                            "#fdca26"
                          ],
                          [
                            1,
                            "#f0f921"
                          ]
                        ],
                        "type": "contour"
                      }
                    ],
                    "contourcarpet": [
                      {
                        "colorbar": {
                          "outlinewidth": 0,
                          "ticks": ""
                        },
                        "type": "contourcarpet"
                      }
                    ],
                    "heatmap": [
                      {
                        "colorbar": {
                          "outlinewidth": 0,
                          "ticks": ""
                        },
                        "colorscale": [
                          [
                            0,
                            "#0d0887"
                          ],
                          [
                            0.1111111111111111,
                            "#46039f"
                          ],
                          [
                            0.2222222222222222,
                            "#7201a8"
                          ],
                          [
                            0.3333333333333333,
                            "#9c179e"
                          ],
                          [
                            0.4444444444444444,
                            "#bd3786"
                          ],
                          [
                            0.5555555555555556,
                            "#d8576b"
                          ],
                          [
                            0.6666666666666666,
                            "#ed7953"
                          ],
                          [
                            0.7777777777777778,
                            "#fb9f3a"
                          ],
                          [
                            0.8888888888888888,
                            "#fdca26"
                          ],
                          [
                            1,
                            "#f0f921"
                          ]
                        ],
                        "type": "heatmap"
                      }
                    ],
                    "heatmapgl": [
                      {
                        "colorbar": {
                          "outlinewidth": 0,
                          "ticks": ""
                        },
                        "colorscale": [
                          [
                            0,
                            "#0d0887"
                          ],
                          [
                            0.1111111111111111,
                            "#46039f"
                          ],
                          [
                            0.2222222222222222,
                            "#7201a8"
                          ],
                          [
                            0.3333333333333333,
                            "#9c179e"
                          ],
                          [
                            0.4444444444444444,
                            "#bd3786"
                          ],
                          [
                            0.5555555555555556,
                            "#d8576b"
                          ],
                          [
                            0.6666666666666666,
                            "#ed7953"
                          ],
                          [
                            0.7777777777777778,
                            "#fb9f3a"
                          ],
                          [
                            0.8888888888888888,
                            "#fdca26"
                          ],
                          [
                            1,
                            "#f0f921"
                          ]
                        ],
                        "type": "heatmapgl"
                      }
                    ],
                    "histogram": [
                      {
                        "marker": {
                          "pattern": {
                            "fillmode": "overlay",
                            "size": 10,
                            "solidity": 0.2
                          }
                        },
                        "type": "histogram"
                      }
                    ],
                    "histogram2d": [
                      {
                        "colorbar": {
                          "outlinewidth": 0,
                          "ticks": ""
                        },
                        "colorscale": [
                          [
                            0,
                            "#0d0887"
                          ],
                          [
                            0.1111111111111111,
                            "#46039f"
                          ],
                          [
                            0.2222222222222222,
                            "#7201a8"
                          ],
                          [
                            0.3333333333333333,
                            "#9c179e"
                          ],
                          [
                            0.4444444444444444,
                            "#bd3786"
                          ],
                          [
                            0.5555555555555556,
                            "#d8576b"
                          ],
                          [
                            0.6666666666666666,
                            "#ed7953"
                          ],
                          [
                            0.7777777777777778,
                            "#fb9f3a"
                          ],
                          [
                            0.8888888888888888,
                            "#fdca26"
                          ],
                          [
                            1,
                            "#f0f921"
                          ]
                        ],
                        "type": "histogram2d"
                      }
                    ],
                    "histogram2dcontour": [
                      {
                        "colorbar": {
                          "outlinewidth": 0,
                          "ticks": ""
                        },
                        "colorscale": [
                          [
                            0,
                            "#0d0887"
                          ],
                          [
                            0.1111111111111111,
                            "#46039f"
                          ],
                          [
                            0.2222222222222222,
                            "#7201a8"
                          ],
                          [
                            0.3333333333333333,
                            "#9c179e"
                          ],
                          [
                            0.4444444444444444,
                            "#bd3786"
                          ],
                          [
                            0.5555555555555556,
                            "#d8576b"
                          ],
                          [
                            0.6666666666666666,
                            "#ed7953"
                          ],
                          [
                            0.7777777777777778,
                            "#fb9f3a"
                          ],
                          [
                            0.8888888888888888,
                            "#fdca26"
                          ],
                          [
                            1,
                            "#f0f921"
                          ]
                        ],
                        "type": "histogram2dcontour"
                      }
                    ],
                    "mesh3d": [
                      {
                        "colorbar": {
                          "outlinewidth": 0,
                          "ticks": ""
                        },
                        "type": "mesh3d"
                      }
                    ],
                    "parcoords": [
                      {
                        "line": {
                          "colorbar": {
                            "outlinewidth": 0,
                            "ticks": ""
                          }
                        },
                        "type": "parcoords"
                      }
                    ],
                    "pie": [
                      {
                        "automargin": true,
                        "type": "pie"
                      }
                    ],
                    "scatter": [
                      {
                        "fillpattern": {
                          "fillmode": "overlay",
                          "size": 10,
                          "solidity": 0.2
                        },
                        "type": "scatter"
                      }
                    ],
                    "scatter3d": [
                      {
                        "line": {
                          "colorbar": {
                            "outlinewidth": 0,
                            "ticks": ""
                          }
                        },
                        "marker": {
                          "colorbar": {
                            "outlinewidth": 0,
                            "ticks": ""
                          }
                        },
                        "type": "scatter3d"
                      }
                    ],
                    "scattercarpet": [
                      {
                        "marker": {
                          "colorbar": {
                            "outlinewidth": 0,
                            "ticks": ""
                          }
                        },
                        "type": "scattercarpet"
                      }
                    ],
                    "scattergeo": [
                      {
                        "marker": {
                          "colorbar": {
                            "outlinewidth": 0,
                            "ticks": ""
                          }
                        },
                        "type": "scattergeo"
                      }
                    ],
                    "scattergl": [
                      {
                        "marker": {
                          "colorbar": {
                            "outlinewidth": 0,
                            "ticks": ""
                          }
                        },
                        "type": "scattergl"
                      }
                    ],
                    "scattermapbox": [
                      {
                        "marker": {
                          "colorbar": {
                            "outlinewidth": 0,
                            "ticks": ""
                          }
                        },
                        "type": "scattermapbox"
                      }
                    ],
                    "scatterpolar": [
                      {
                        "marker": {
                          "colorbar": {
                            "outlinewidth": 0,
                            "ticks": ""
                          }
                        },
                        "type": "scatterpolar"
                      }
                    ],
                    "scatterpolargl": [
                      {
                        "marker": {
                          "colorbar": {
                            "outlinewidth": 0,
                            "ticks": ""
                          }
                        },
                        "type": "scatterpolargl"
                      }
                    ],
                    "scatterternary": [
                      {
                        "marker": {
                          "colorbar": {
                            "outlinewidth": 0,
                            "ticks": ""
                          }
                        },
                        "type": "scatterternary"
                      }
                    ],
                    "surface": [
                      {
                        "colorbar": {
                          "outlinewidth": 0,
                          "ticks": ""
                        },
                        "colorscale": [
                          [
                            0,
                            "#0d0887"
                          ],
                          [
                            0.1111111111111111,
                            "#46039f"
                          ],
                          [
                            0.2222222222222222,
                            "#7201a8"
                          ],
                          [
                            0.3333333333333333,
                            "#9c179e"
                          ],
                          [
                            0.4444444444444444,
                            "#bd3786"
                          ],
                          [
                            0.5555555555555556,
                            "#d8576b"
                          ],
                          [
                            0.6666666666666666,
                            "#ed7953"
                          ],
                          [
                            0.7777777777777778,
                            "#fb9f3a"
                          ],
                          [
                            0.8888888888888888,
                            "#fdca26"
                          ],
                          [
                            1,
                            "#f0f921"
                          ]
                        ],
                        "type": "surface"
                      }
                    ],
                    "table": [
                      {
                        "cells": {
                          "fill": {
                            "color": "#EBF0F8"
                          },
                          "line": {
                            "color": "white"
                          }
                        },
                        "header": {
                          "fill": {
                            "color": "#C8D4E3"
                          },
                          "line": {
                            "color": "white"
                          }
                        },
                        "type": "table"
                      }
                    ]
                  },
                  "layout": {
                    "annotationdefaults": {
                      "arrowcolor": "#2a3f5f",
                      "arrowhead": 0,
                      "arrowwidth": 1
                    },
                    "autotypenumbers": "strict",
                    "coloraxis": {
                      "colorbar": {
                        "outlinewidth": 0,
                        "ticks": ""
                      }
                    },
                    "colorscale": {
                      "diverging": [
                        [
                          0,
                          "#8e0152"
                        ],
                        [
                          0.1,
                          "#c51b7d"
                        ],
                        [
                          0.2,
                          "#de77ae"
                        ],
                        [
                          0.3,
                          "#f1b6da"
                        ],
                        [
                          0.4,
                          "#fde0ef"
                        ],
                        [
                          0.5,
                          "#f7f7f7"
                        ],
                        [
                          0.6,
                          "#e6f5d0"
                        ],
                        [
                          0.7,
                          "#b8e186"
                        ],
                        [
                          0.8,
                          "#7fbc41"
                        ],
                        [
                          0.9,
                          "#4d9221"
                        ],
                        [
                          1,
                          "#276419"
                        ]
                      ],
                      "sequential": [
                        [
                          0,
                          "#0d0887"
                        ],
                        [
                          0.1111111111111111,
                          "#46039f"
                        ],
                        [
                          0.2222222222222222,
                          "#7201a8"
                        ],
                        [
                          0.3333333333333333,
                          "#9c179e"
                        ],
                        [
                          0.4444444444444444,
                          "#bd3786"
                        ],
                        [
                          0.5555555555555556,
                          "#d8576b"
                        ],
                        [
                          0.6666666666666666,
                          "#ed7953"
                        ],
                        [
                          0.7777777777777778,
                          "#fb9f3a"
                        ],
                        [
                          0.8888888888888888,
                          "#fdca26"
                        ],
                        [
                          1,
                          "#f0f921"
                        ]
                      ],
                      "sequentialminus": [
                        [
                          0,
                          "#0d0887"
                        ],
                        [
                          0.1111111111111111,
                          "#46039f"
                        ],
                        [
                          0.2222222222222222,
                          "#7201a8"
                        ],
                        [
                          0.3333333333333333,
                          "#9c179e"
                        ],
                        [
                          0.4444444444444444,
                          "#bd3786"
                        ],
                        [
                          0.5555555555555556,
                          "#d8576b"
                        ],
                        [
                          0.6666666666666666,
                          "#ed7953"
                        ],
                        [
                          0.7777777777777778,
                          "#fb9f3a"
                        ],
                        [
                          0.8888888888888888,
                          "#fdca26"
                        ],
                        [
                          1,
                          "#f0f921"
                        ]
                      ]
                    },
                    "colorway": [
                      "#636efa",
                      "#EF553B",
                      "#00cc96",
                      "#ab63fa",
                      "#FFA15A",
                      "#19d3f3",
                      "#FF6692",
                      "#B6E880",
                      "#FF97FF",
                      "#FECB52"
                    ],
                    "font": {
                      "color": "#2a3f5f"
                    },
                    "geo": {
                      "bgcolor": "white",
                      "lakecolor": "white",
                      "landcolor": "#E5ECF6",
                      "showlakes": true,
                      "showland": true,
                      "subunitcolor": "white"
                    },
                    "hoverlabel": {
                      "align": "left"
                    },
                    "hovermode": "closest",
                    "mapbox": {
                      "style": "light"
                    },
                    "paper_bgcolor": "white",
                    "plot_bgcolor": "#E5ECF6",
                    "polar": {
                      "angularaxis": {
                        "gridcolor": "white",
                        "linecolor": "white",
                        "ticks": ""
                      },
                      "bgcolor": "#E5ECF6",
                      "radialaxis": {
                        "gridcolor": "white",
                        "linecolor": "white",
                        "ticks": ""
                      }
                    },
                    "scene": {
                      "xaxis": {
                        "backgroundcolor": "#E5ECF6",
                        "gridcolor": "white",
                        "gridwidth": 2,
                        "linecolor": "white",
                        "showbackground": true,
                        "ticks": "",
                        "zerolinecolor": "white"
                      },
                      "yaxis": {
                        "backgroundcolor": "#E5ECF6",
                        "gridcolor": "white",
                        "gridwidth": 2,
                        "linecolor": "white",
                        "showbackground": true,
                        "ticks": "",
                        "zerolinecolor": "white"
                      },
                      "zaxis": {
                        "backgroundcolor": "#E5ECF6",
                        "gridcolor": "white",
                        "gridwidth": 2,
                        "linecolor": "white",
                        "showbackground": true,
                        "ticks": "",
                        "zerolinecolor": "white"
                      }
                    },
                    "shapedefaults": {
                      "line": {
                        "color": "#2a3f5f"
                      }
                    },
                    "ternary": {
                      "aaxis": {
                        "gridcolor": "white",
                        "linecolor": "white",
                        "ticks": ""
                      },
                      "baxis": {
                        "gridcolor": "white",
                        "linecolor": "white",
                        "ticks": ""
                      },
                      "bgcolor": "#E5ECF6",
                      "caxis": {
                        "gridcolor": "white",
                        "linecolor": "white",
                        "ticks": ""
                      }
                    },
                    "title": {
                      "x": 0.05
                    },
                    "xaxis": {
                      "automargin": true,
                      "gridcolor": "white",
                      "linecolor": "white",
                      "ticks": "",
                      "title": {
                        "standoff": 15
                      },
                      "zerolinecolor": "white",
                      "zerolinewidth": 2
                    },
                    "yaxis": {
                      "automargin": true,
                      "gridcolor": "white",
                      "linecolor": "white",
                      "ticks": "",
                      "title": {
                        "standoff": 15
                      },
                      "zerolinecolor": "white",
                      "zerolinewidth": 2
                    }
                  }
                }
              }
            }
          },
          "metadata": {},
          "output_type": "display_data"
        }
      ],
      "source": [
        "fig = px.pie(total,values='Total',names=total.index)\n",
        "fig.show()"
      ]
    },
    {
      "attachments": {},
      "cell_type": "markdown",
      "metadata": {
        "id": "PhO_CCgGzK-2"
      },
      "source": [
        "As expected is a very unbalanced data frame, since we define 2 scores (1 and 2) for negative and 2 scores for positive (4 and 5) and just one score ( 3 ) for neutral sentiments. Knowing that, we are going to balance the df in later actions before applying the neural networking.\n",
        " \n"
      ]
    },
    {
      "attachments": {},
      "cell_type": "markdown",
      "metadata": {
        "id": "4J0ZbS24Yw2q"
      },
      "source": [
        "<a id=\"NGP\"></a>\n",
        "## 7.3 - N_Gram Plot"
      ]
    },
    {
      "attachments": {},
      "cell_type": "markdown",
      "metadata": {
        "id": "RPP26CLdYw2q"
      },
      "source": [
        " \n",
        " That is a very nice way to understand the most comuns topics per sentiment. To do that we will use the module CountVectorizer from sklearn feature_extraction text library. \n",
        " It might seem a little bit of a mess at first look but it's not.\n",
        "     We builded a function that counted the 1,2,3 and 4 grams per sentiment and another function to define the dfs per sentiment calling the first function.\n",
        "\n",
        " Then we will end up with amazon_results df that contain a list of 12 dfs. \n",
        "    \n",
        "   * Mono-gram - positive neutral and negative.\n",
        "   * Bi-gram - for positive neutral and negative.\n",
        "   * Tri-gram - for positive neutral and negative.\n",
        "   * Tetra-gram - for positive neutral and negative.\n",
        "\n",
        "Then we will use subplot to plot the top 5 most comuns n-grams for each sentiment.\n",
        "\n",
        "     "
      ]
    },
    {
      "cell_type": "code",
      "execution_count": 36,
      "metadata": {
        "id": "_O4Tz52YYw2r",
        "trusted": true
      },
      "outputs": [],
      "source": [
        "from sklearn.feature_extraction.text import CountVectorizer\n",
        "from plotly.subplots import make_subplots\n",
        "import plotly.graph_objects as go"
      ]
    },
    {
      "cell_type": "code",
      "execution_count": 37,
      "metadata": {
        "id": "qEXzGr8zYw2s",
        "trusted": true
      },
      "outputs": [],
      "source": [
        "def ngram_results(df):\n",
        "    \n",
        "    df_1=df[df['sentiment_positive']==1]\n",
        "    df_2=df[df['sentiment_neutral']==1]\n",
        "    df_3=df[df['sentiment_negative']==1]\n",
        "    \n",
        "    \n",
        "    def uni_bi_tri(df_pos,df_neu,df_neg):\n",
        "        \n",
        "        #pos\n",
        "        word_vectorizer = CountVectorizer(ngram_range=(1,1), analyzer='word')\n",
        "        sparse_matrix = word_vectorizer.fit_transform(df_pos['reviews'][:10000])\n",
        "        frequencies = sum(sparse_matrix).toarray()[0]\n",
        "        result_mono_pos=pd.DataFrame(frequencies, index=word_vectorizer.get_feature_names_out(), columns=['frequency']).sort_values(by=['frequency'],ascending=False)\n",
        "\n",
        "        word_vectorizer = CountVectorizer(ngram_range=(2,2), analyzer='word')\n",
        "        sparse_matrix = word_vectorizer.fit_transform(df_pos['reviews'][:10000])\n",
        "        frequencies = sum(sparse_matrix).toarray()[0]\n",
        "        result_bi_pos=pd.DataFrame(frequencies, index=word_vectorizer.get_feature_names_out(), columns=['frequency']).sort_values(by=['frequency'],ascending=False)\n",
        "\n",
        "        word_vectorizer = CountVectorizer(ngram_range=(3,3), analyzer='word')\n",
        "        sparse_matrix = word_vectorizer.fit_transform(df_pos['reviews'][:10000])\n",
        "        frequencies = sum(sparse_matrix).toarray()[0]\n",
        "        result_tri_pos=pd.DataFrame(frequencies, index=word_vectorizer.get_feature_names_out(), columns=['frequency']).sort_values(by=['frequency'],ascending=False)\n",
        "        \n",
        "        word_vectorizer = CountVectorizer(ngram_range=(4,4), analyzer='word')\n",
        "        sparse_matrix = word_vectorizer.fit_transform(df_pos['reviews'][:10000])\n",
        "        frequencies = sum(sparse_matrix).toarray()[0]\n",
        "        result_tetra_pos=pd.DataFrame(frequencies, index=word_vectorizer.get_feature_names_out(), columns=['frequency']).sort_values(by=['frequency'],ascending=False)\n",
        "       \n",
        "        #neu\n",
        "        word_vectorizer = CountVectorizer(ngram_range=(1,1), analyzer='word')\n",
        "        sparse_matrix = word_vectorizer.fit_transform(df_neu['reviews'][:10000])\n",
        "        frequencies = sum(sparse_matrix).toarray()[0]\n",
        "        result_mono_neu=pd.DataFrame(frequencies, index=word_vectorizer.get_feature_names_out(), columns=['frequency']).sort_values(by=['frequency'],ascending=False)\n",
        "\n",
        "        word_vectorizer = CountVectorizer(ngram_range=(2,2), analyzer='word')\n",
        "        sparse_matrix = word_vectorizer.fit_transform(df_neu['reviews'][:10000])\n",
        "        frequencies = sum(sparse_matrix).toarray()[0]\n",
        "        result_bi_neu=pd.DataFrame(frequencies, index=word_vectorizer.get_feature_names_out(), columns=['frequency']).sort_values(by=['frequency'],ascending=False)\n",
        "\n",
        "        word_vectorizer = CountVectorizer(ngram_range=(3,3), analyzer='word')\n",
        "        sparse_matrix = word_vectorizer.fit_transform(df_neu['reviews'][:10000])\n",
        "        frequencies = sum(sparse_matrix).toarray()[0]\n",
        "        result_tri_neu=pd.DataFrame(frequencies, index=word_vectorizer.get_feature_names_out(), columns=['frequency']).sort_values(by=['frequency'],ascending=False)\n",
        "        \n",
        "        word_vectorizer = CountVectorizer(ngram_range=(4,4), analyzer='word')\n",
        "        sparse_matrix = word_vectorizer.fit_transform(df_neu['reviews'][:10000])\n",
        "        frequencies = sum(sparse_matrix).toarray()[0]\n",
        "        result_tetra_neu=pd.DataFrame(frequencies, index=word_vectorizer.get_feature_names_out(), columns=['frequency']).sort_values(by=['frequency'],ascending=False)\n",
        "        \n",
        "        #neg\n",
        "        word_vectorizer = CountVectorizer(ngram_range=(1,1), analyzer='word')\n",
        "        sparse_matrix = word_vectorizer.fit_transform(df_neg['reviews'][:10000])\n",
        "        frequencies = sum(sparse_matrix).toarray()[0]\n",
        "        result_mono_neg=pd.DataFrame(frequencies, index=word_vectorizer.get_feature_names_out(), columns=['frequency']).sort_values(by=['frequency'],ascending=False)\n",
        "\n",
        "        word_vectorizer = CountVectorizer(ngram_range=(2,2), analyzer='word')\n",
        "        sparse_matrix = word_vectorizer.fit_transform(df_neg['reviews'][:10000])\n",
        "        frequencies = sum(sparse_matrix).toarray()[0]\n",
        "        result_bi_neg=pd.DataFrame(frequencies, index=word_vectorizer.get_feature_names_out(), columns=['frequency']).sort_values(by=['frequency'],ascending=False)\n",
        "\n",
        "        word_vectorizer = CountVectorizer(ngram_range=(3,3), analyzer='word')\n",
        "        sparse_matrix = word_vectorizer.fit_transform(df_neg['reviews'][:10000])\n",
        "        frequencies = sum(sparse_matrix).toarray()[0]\n",
        "        result_tri_neg=pd.DataFrame(frequencies, index=word_vectorizer.get_feature_names_out(), columns=['frequency']).sort_values(by=['frequency'],ascending=False)\n",
        "        \n",
        "        word_vectorizer = CountVectorizer(ngram_range=(4,4), analyzer='word')\n",
        "        sparse_matrix = word_vectorizer.fit_transform(df_neg['reviews'][:10000])\n",
        "        frequencies = sum(sparse_matrix).toarray()[0]\n",
        "        result_tetra_neg=pd.DataFrame(frequencies, index=word_vectorizer.get_feature_names_out(), columns=['frequency']).sort_values(by=['frequency'],ascending=False)\n",
        "        \n",
        "        results=[result_mono_pos,result_bi_pos,result_tri_pos,result_tetra_pos,\n",
        "                 result_mono_neu,result_bi_neu,result_tri_neu,result_tetra_neu,\n",
        "                 result_mono_neg,result_bi_neg,result_tri_neg,result_tetra_neg]\n",
        "        \n",
        "        return results\n",
        "    \n",
        "\n",
        "    \n",
        "    return uni_bi_tri(df_1,df_2,df_3)\n",
        "\n"
      ]
    },
    {
      "cell_type": "code",
      "execution_count": 39,
      "metadata": {},
      "outputs": [],
      "source": [
        "import warnings\n",
        "warnings.filterwarnings(\"ignore\", category=DeprecationWarning)\n"
      ]
    },
    {
      "cell_type": "code",
      "execution_count": 38,
      "metadata": {
        "id": "Wjy34Qm2Yw2t",
        "trusted": true
      },
      "outputs": [
        {
          "name": "stderr",
          "output_type": "stream",
          "text": [
            "C:\\Users\\HP\\AppData\\Local\\Temp\\ipykernel_20176\\3692615522.py:12: FutureWarning:\n",
            "\n",
            "The behavior of `series[i:j]` with an integer-dtype index is deprecated. In a future version, this will be treated as *label-based* indexing, consistent with e.g. `series[i]` lookups. To retain the old behavior, use `series.iloc[i:j]`. To get the future behavior, use `series.loc[i:j]`.\n",
            "\n",
            "C:\\Users\\HP\\AppData\\Local\\Temp\\ipykernel_20176\\3692615522.py:17: FutureWarning:\n",
            "\n",
            "The behavior of `series[i:j]` with an integer-dtype index is deprecated. In a future version, this will be treated as *label-based* indexing, consistent with e.g. `series[i]` lookups. To retain the old behavior, use `series.iloc[i:j]`. To get the future behavior, use `series.loc[i:j]`.\n",
            "\n",
            "C:\\Users\\HP\\AppData\\Local\\Temp\\ipykernel_20176\\3692615522.py:22: FutureWarning:\n",
            "\n",
            "The behavior of `series[i:j]` with an integer-dtype index is deprecated. In a future version, this will be treated as *label-based* indexing, consistent with e.g. `series[i]` lookups. To retain the old behavior, use `series.iloc[i:j]`. To get the future behavior, use `series.loc[i:j]`.\n",
            "\n",
            "C:\\Users\\HP\\AppData\\Local\\Temp\\ipykernel_20176\\3692615522.py:27: FutureWarning:\n",
            "\n",
            "The behavior of `series[i:j]` with an integer-dtype index is deprecated. In a future version, this will be treated as *label-based* indexing, consistent with e.g. `series[i]` lookups. To retain the old behavior, use `series.iloc[i:j]`. To get the future behavior, use `series.loc[i:j]`.\n",
            "\n",
            "C:\\Users\\HP\\AppData\\Local\\Temp\\ipykernel_20176\\3692615522.py:33: FutureWarning:\n",
            "\n",
            "The behavior of `series[i:j]` with an integer-dtype index is deprecated. In a future version, this will be treated as *label-based* indexing, consistent with e.g. `series[i]` lookups. To retain the old behavior, use `series.iloc[i:j]`. To get the future behavior, use `series.loc[i:j]`.\n",
            "\n",
            "C:\\Users\\HP\\AppData\\Local\\Temp\\ipykernel_20176\\3692615522.py:38: FutureWarning:\n",
            "\n",
            "The behavior of `series[i:j]` with an integer-dtype index is deprecated. In a future version, this will be treated as *label-based* indexing, consistent with e.g. `series[i]` lookups. To retain the old behavior, use `series.iloc[i:j]`. To get the future behavior, use `series.loc[i:j]`.\n",
            "\n",
            "C:\\Users\\HP\\AppData\\Local\\Temp\\ipykernel_20176\\3692615522.py:43: FutureWarning:\n",
            "\n",
            "The behavior of `series[i:j]` with an integer-dtype index is deprecated. In a future version, this will be treated as *label-based* indexing, consistent with e.g. `series[i]` lookups. To retain the old behavior, use `series.iloc[i:j]`. To get the future behavior, use `series.loc[i:j]`.\n",
            "\n",
            "C:\\Users\\HP\\AppData\\Local\\Temp\\ipykernel_20176\\3692615522.py:48: FutureWarning:\n",
            "\n",
            "The behavior of `series[i:j]` with an integer-dtype index is deprecated. In a future version, this will be treated as *label-based* indexing, consistent with e.g. `series[i]` lookups. To retain the old behavior, use `series.iloc[i:j]`. To get the future behavior, use `series.loc[i:j]`.\n",
            "\n",
            "C:\\Users\\HP\\AppData\\Local\\Temp\\ipykernel_20176\\3692615522.py:54: FutureWarning:\n",
            "\n",
            "The behavior of `series[i:j]` with an integer-dtype index is deprecated. In a future version, this will be treated as *label-based* indexing, consistent with e.g. `series[i]` lookups. To retain the old behavior, use `series.iloc[i:j]`. To get the future behavior, use `series.loc[i:j]`.\n",
            "\n",
            "C:\\Users\\HP\\AppData\\Local\\Temp\\ipykernel_20176\\3692615522.py:59: FutureWarning:\n",
            "\n",
            "The behavior of `series[i:j]` with an integer-dtype index is deprecated. In a future version, this will be treated as *label-based* indexing, consistent with e.g. `series[i]` lookups. To retain the old behavior, use `series.iloc[i:j]`. To get the future behavior, use `series.loc[i:j]`.\n",
            "\n",
            "C:\\Users\\HP\\AppData\\Local\\Temp\\ipykernel_20176\\3692615522.py:64: FutureWarning:\n",
            "\n",
            "The behavior of `series[i:j]` with an integer-dtype index is deprecated. In a future version, this will be treated as *label-based* indexing, consistent with e.g. `series[i]` lookups. To retain the old behavior, use `series.iloc[i:j]`. To get the future behavior, use `series.loc[i:j]`.\n",
            "\n",
            "C:\\Users\\HP\\AppData\\Local\\Temp\\ipykernel_20176\\3692615522.py:69: FutureWarning:\n",
            "\n",
            "The behavior of `series[i:j]` with an integer-dtype index is deprecated. In a future version, this will be treated as *label-based* indexing, consistent with e.g. `series[i]` lookups. To retain the old behavior, use `series.iloc[i:j]`. To get the future behavior, use `series.loc[i:j]`.\n",
            "\n"
          ]
        }
      ],
      "source": [
        "ajio_results = ngram_results(df)"
      ]
    },
    {
      "cell_type": "code",
      "execution_count": 40,
      "metadata": {
        "id": "MT7GlODKYw2u",
        "trusted": true
      },
      "outputs": [],
      "source": [
        "def rename_index(dflist):\n",
        "\n",
        "    #pos\n",
        "    df_mono_pos=pd.DataFrame(dflist[0]).reset_index().rename(columns={'index':'Mono_Pos'})\n",
        "    df_bi_pos=pd.DataFrame(dflist[1]).reset_index().rename(columns={'index':'Bi_Pos'})\n",
        "    df_tri_pos=pd.DataFrame(dflist[2]).reset_index().rename(columns={'index':'Tri_Pos'})\n",
        "    df_tetra_pos=pd.DataFrame(dflist[3]).reset_index().rename(columns={'index':'Tetra_Pos'})\n",
        "    #neu\n",
        "    df_mono_neu=pd.DataFrame(dflist[4]).reset_index().rename(columns={'index':'Mono_Neu'})\n",
        "    df_bi_neu=pd.DataFrame(dflist[5]).reset_index().rename(columns={'index':'Bi_Neu'})\n",
        "    df_tri_neu=pd.DataFrame(dflist[6]).reset_index().rename(columns={'index':'Tri_Neu'})\n",
        "    df_tetra_neu=pd.DataFrame(dflist[7]).reset_index().rename(columns={'index':'Tetra_Neu'})\n",
        "    #neg\n",
        "    df_mono_neg=pd.DataFrame(dflist[8]).reset_index().rename(columns={'index':'Mono_Pos'})\n",
        "    df_bi_neg=pd.DataFrame(dflist[9]).reset_index().rename(columns={'index':'Bi_Pos'})\n",
        "    df_tri_neg=pd.DataFrame(dflist[10]).reset_index().rename(columns={'index':'Tri_Pos'})\n",
        "    df_tetra_neg=pd.DataFrame(dflist[11]).reset_index().rename(columns={'index':'Tetra_Neg'})\n",
        "    \n",
        "    result=[df_mono_pos, df_bi_pos, df_tri_pos, df_tetra_pos,\n",
        "            df_mono_neu, df_bi_neu, df_tri_neu, df_tetra_neu,\n",
        "            df_mono_neg, df_bi_neg, df_tri_neg, df_tetra_neg]\n",
        "    \n",
        "    return result"
      ]
    },
    {
      "cell_type": "code",
      "execution_count": 41,
      "metadata": {
        "id": "Qy0NKOt5Yw2v",
        "trusted": true
      },
      "outputs": [],
      "source": [
        "ajio_results=rename_index(ajio_results)"
      ]
    },
    {
      "cell_type": "code",
      "execution_count": 42,
      "metadata": {
        "colab": {
          "base_uri": "https://localhost:8080/",
          "height": 937
        },
        "id": "iFDB2L51Yw2v",
        "outputId": "242de0f8-5810-480a-b4ca-a239ebe5069f",
        "trusted": true
      },
      "outputs": [
        {
          "data": {
            "application/vnd.plotly.v1+json": {
              "config": {
                "plotlyServerURL": "https://plot.ly"
              },
              "data": [
                {
                  "marker": {
                    "color": "DeepSkyBlue"
                  },
                  "type": "bar",
                  "x": [
                    "app",
                    "good",
                    "shop",
                    "ajio",
                    "products"
                  ],
                  "xaxis": "x",
                  "y": [
                    4532,
                    4370,
                    2476,
                    2461,
                    2404
                  ],
                  "yaxis": "y"
                },
                {
                  "marker": {
                    "color": "DeepSkyBlue"
                  },
                  "type": "bar",
                  "x": [
                    "shop app",
                    "good quality",
                    "online shop",
                    "good app",
                    "havery good"
                  ],
                  "xaxis": "x2",
                  "y": [
                    589,
                    588,
                    444,
                    433,
                    422
                  ],
                  "yaxis": "y2"
                },
                {
                  "marker": {
                    "color": "DeepSkyBlue"
                  },
                  "type": "bar",
                  "x": [
                    "best shop app",
                    "online shop app",
                    "good quality products",
                    "best online shop",
                    "havery good app"
                  ],
                  "xaxis": "x3",
                  "y": [
                    143,
                    143,
                    139,
                    118,
                    118
                  ],
                  "yaxis": "y3"
                },
                {
                  "marker": {
                    "color": "DeepSkyBlue"
                  },
                  "type": "bar",
                  "x": [
                    "best online shop app",
                    "best shop app ever",
                    "one best online shop",
                    "best app online shop",
                    "oops something go wrong"
                  ],
                  "xaxis": "x4",
                  "y": [
                    63,
                    31,
                    30,
                    21,
                    20
                  ],
                  "yaxis": "y4"
                },
                {
                  "marker": {
                    "color": "Lightgrey"
                  },
                  "type": "bar",
                  "x": [
                    "app",
                    "good",
                    "order",
                    "delivery",
                    "product"
                  ],
                  "xaxis": "x5",
                  "y": [
                    1636,
                    1435,
                    1126,
                    1109,
                    984
                  ],
                  "yaxis": "y5"
                },
                {
                  "marker": {
                    "color": "Lightgrey"
                  },
                  "type": "bar",
                  "x": [
                    "customer care",
                    "delivery charge",
                    "app good",
                    "good app",
                    "cash delivery"
                  ],
                  "xaxis": "x6",
                  "y": [
                    211,
                    176,
                    123,
                    123,
                    118
                  ],
                  "yaxis": "y6"
                },
                {
                  "marker": {
                    "color": "Lightgrey"
                  },
                  "type": "bar",
                  "x": [
                    "something go wrong",
                    "take much time",
                    "customer care service",
                    "give dig star",
                    "wouldelivery charge high"
                  ],
                  "xaxis": "x7",
                  "y": [
                    71,
                    51,
                    47,
                    43,
                    43
                  ],
                  "yaxis": "y7"
                },
                {
                  "marker": {
                    "color": "Lightgrey"
                  },
                  "type": "bar",
                  "x": [
                    "oops something go wrong",
                    "something go wrong try",
                    "say oops something go",
                    "show oops something go",
                    "show something go wrong"
                  ],
                  "xaxis": "x8",
                  "y": [
                    36,
                    12,
                    12,
                    11,
                    11
                  ],
                  "yaxis": "y8"
                },
                {
                  "marker": {
                    "color": "Crimson"
                  },
                  "type": "bar",
                  "x": [
                    "order",
                    "app",
                    "return",
                    "customer",
                    "product"
                  ],
                  "xaxis": "x9",
                  "y": [
                    8545,
                    8392,
                    6231,
                    5960,
                    5419
                  ],
                  "yaxis": "y9"
                },
                {
                  "marker": {
                    "color": "Crimson"
                  },
                  "type": "bar",
                  "x": [
                    "customer care",
                    "customer service",
                    "worst app",
                    "digdig days",
                    "worst experience"
                  ],
                  "xaxis": "x10",
                  "y": [
                    2997,
                    1590,
                    1092,
                    962,
                    867
                  ],
                  "yaxis": "y10"
                },
                {
                  "marker": {
                    "color": "Crimson"
                  },
                  "type": "bar",
                  "x": [
                    "customer care service",
                    "call customer care",
                    "worst app ever",
                    "contact customer care",
                    "something go wrong"
                  ],
                  "xaxis": "x11",
                  "y": [
                    470,
                    447,
                    374,
                    309,
                    287
                  ],
                  "yaxis": "y11"
                },
                {
                  "marker": {
                    "color": "Crimson"
                  },
                  "type": "bar",
                  "x": [
                    "oops something go wrong",
                    "worst shop app ever",
                    "try contact customer care",
                    "worst customer care service",
                    "try call customer care"
                  ],
                  "xaxis": "x12",
                  "y": [
                    171,
                    128,
                    99,
                    73,
                    69
                  ],
                  "yaxis": "y12"
                }
              ],
              "layout": {
                "annotations": [
                  {
                    "font": {
                      "size": 16
                    },
                    "showarrow": false,
                    "text": "Mono-grams",
                    "x": 0.10375,
                    "xanchor": "center",
                    "xref": "paper",
                    "y": 0.9999999999999999,
                    "yanchor": "bottom",
                    "yref": "paper"
                  },
                  {
                    "font": {
                      "size": 16
                    },
                    "showarrow": false,
                    "text": "Bi-grams",
                    "x": 0.36124999999999996,
                    "xanchor": "center",
                    "xref": "paper",
                    "y": 0.9999999999999999,
                    "yanchor": "bottom",
                    "yref": "paper"
                  },
                  {
                    "font": {
                      "size": 16
                    },
                    "showarrow": false,
                    "text": "Tri-grams",
                    "x": 0.61875,
                    "xanchor": "center",
                    "xref": "paper",
                    "y": 0.9999999999999999,
                    "yanchor": "bottom",
                    "yref": "paper"
                  },
                  {
                    "font": {
                      "size": 16
                    },
                    "showarrow": false,
                    "text": "Tetra-grams",
                    "x": 0.87625,
                    "xanchor": "center",
                    "xref": "paper",
                    "y": 0.9999999999999999,
                    "yanchor": "bottom",
                    "yref": "paper"
                  },
                  {
                    "font": {
                      "size": 16
                    },
                    "showarrow": false,
                    "text": "Positive",
                    "textangle": 90,
                    "x": 0.98,
                    "xanchor": "left",
                    "xref": "paper",
                    "y": 0.8833333333333333,
                    "yanchor": "middle",
                    "yref": "paper"
                  },
                  {
                    "font": {
                      "size": 16
                    },
                    "showarrow": false,
                    "text": "Neutral",
                    "textangle": 90,
                    "x": 0.98,
                    "xanchor": "left",
                    "xref": "paper",
                    "y": 0.49999999999999994,
                    "yanchor": "middle",
                    "yref": "paper"
                  },
                  {
                    "font": {
                      "size": 16
                    },
                    "showarrow": false,
                    "text": "Negative",
                    "textangle": 90,
                    "x": 0.98,
                    "xanchor": "left",
                    "xref": "paper",
                    "y": 0.11666666666666665,
                    "yanchor": "middle",
                    "yref": "paper"
                  }
                ],
                "height": 900,
                "showlegend": false,
                "template": {
                  "data": {
                    "bar": [
                      {
                        "error_x": {
                          "color": "#2a3f5f"
                        },
                        "error_y": {
                          "color": "#2a3f5f"
                        },
                        "marker": {
                          "line": {
                            "color": "#E5ECF6",
                            "width": 0.5
                          },
                          "pattern": {
                            "fillmode": "overlay",
                            "size": 10,
                            "solidity": 0.2
                          }
                        },
                        "type": "bar"
                      }
                    ],
                    "barpolar": [
                      {
                        "marker": {
                          "line": {
                            "color": "#E5ECF6",
                            "width": 0.5
                          },
                          "pattern": {
                            "fillmode": "overlay",
                            "size": 10,
                            "solidity": 0.2
                          }
                        },
                        "type": "barpolar"
                      }
                    ],
                    "carpet": [
                      {
                        "aaxis": {
                          "endlinecolor": "#2a3f5f",
                          "gridcolor": "white",
                          "linecolor": "white",
                          "minorgridcolor": "white",
                          "startlinecolor": "#2a3f5f"
                        },
                        "baxis": {
                          "endlinecolor": "#2a3f5f",
                          "gridcolor": "white",
                          "linecolor": "white",
                          "minorgridcolor": "white",
                          "startlinecolor": "#2a3f5f"
                        },
                        "type": "carpet"
                      }
                    ],
                    "choropleth": [
                      {
                        "colorbar": {
                          "outlinewidth": 0,
                          "ticks": ""
                        },
                        "type": "choropleth"
                      }
                    ],
                    "contour": [
                      {
                        "colorbar": {
                          "outlinewidth": 0,
                          "ticks": ""
                        },
                        "colorscale": [
                          [
                            0,
                            "#0d0887"
                          ],
                          [
                            0.1111111111111111,
                            "#46039f"
                          ],
                          [
                            0.2222222222222222,
                            "#7201a8"
                          ],
                          [
                            0.3333333333333333,
                            "#9c179e"
                          ],
                          [
                            0.4444444444444444,
                            "#bd3786"
                          ],
                          [
                            0.5555555555555556,
                            "#d8576b"
                          ],
                          [
                            0.6666666666666666,
                            "#ed7953"
                          ],
                          [
                            0.7777777777777778,
                            "#fb9f3a"
                          ],
                          [
                            0.8888888888888888,
                            "#fdca26"
                          ],
                          [
                            1,
                            "#f0f921"
                          ]
                        ],
                        "type": "contour"
                      }
                    ],
                    "contourcarpet": [
                      {
                        "colorbar": {
                          "outlinewidth": 0,
                          "ticks": ""
                        },
                        "type": "contourcarpet"
                      }
                    ],
                    "heatmap": [
                      {
                        "colorbar": {
                          "outlinewidth": 0,
                          "ticks": ""
                        },
                        "colorscale": [
                          [
                            0,
                            "#0d0887"
                          ],
                          [
                            0.1111111111111111,
                            "#46039f"
                          ],
                          [
                            0.2222222222222222,
                            "#7201a8"
                          ],
                          [
                            0.3333333333333333,
                            "#9c179e"
                          ],
                          [
                            0.4444444444444444,
                            "#bd3786"
                          ],
                          [
                            0.5555555555555556,
                            "#d8576b"
                          ],
                          [
                            0.6666666666666666,
                            "#ed7953"
                          ],
                          [
                            0.7777777777777778,
                            "#fb9f3a"
                          ],
                          [
                            0.8888888888888888,
                            "#fdca26"
                          ],
                          [
                            1,
                            "#f0f921"
                          ]
                        ],
                        "type": "heatmap"
                      }
                    ],
                    "heatmapgl": [
                      {
                        "colorbar": {
                          "outlinewidth": 0,
                          "ticks": ""
                        },
                        "colorscale": [
                          [
                            0,
                            "#0d0887"
                          ],
                          [
                            0.1111111111111111,
                            "#46039f"
                          ],
                          [
                            0.2222222222222222,
                            "#7201a8"
                          ],
                          [
                            0.3333333333333333,
                            "#9c179e"
                          ],
                          [
                            0.4444444444444444,
                            "#bd3786"
                          ],
                          [
                            0.5555555555555556,
                            "#d8576b"
                          ],
                          [
                            0.6666666666666666,
                            "#ed7953"
                          ],
                          [
                            0.7777777777777778,
                            "#fb9f3a"
                          ],
                          [
                            0.8888888888888888,
                            "#fdca26"
                          ],
                          [
                            1,
                            "#f0f921"
                          ]
                        ],
                        "type": "heatmapgl"
                      }
                    ],
                    "histogram": [
                      {
                        "marker": {
                          "pattern": {
                            "fillmode": "overlay",
                            "size": 10,
                            "solidity": 0.2
                          }
                        },
                        "type": "histogram"
                      }
                    ],
                    "histogram2d": [
                      {
                        "colorbar": {
                          "outlinewidth": 0,
                          "ticks": ""
                        },
                        "colorscale": [
                          [
                            0,
                            "#0d0887"
                          ],
                          [
                            0.1111111111111111,
                            "#46039f"
                          ],
                          [
                            0.2222222222222222,
                            "#7201a8"
                          ],
                          [
                            0.3333333333333333,
                            "#9c179e"
                          ],
                          [
                            0.4444444444444444,
                            "#bd3786"
                          ],
                          [
                            0.5555555555555556,
                            "#d8576b"
                          ],
                          [
                            0.6666666666666666,
                            "#ed7953"
                          ],
                          [
                            0.7777777777777778,
                            "#fb9f3a"
                          ],
                          [
                            0.8888888888888888,
                            "#fdca26"
                          ],
                          [
                            1,
                            "#f0f921"
                          ]
                        ],
                        "type": "histogram2d"
                      }
                    ],
                    "histogram2dcontour": [
                      {
                        "colorbar": {
                          "outlinewidth": 0,
                          "ticks": ""
                        },
                        "colorscale": [
                          [
                            0,
                            "#0d0887"
                          ],
                          [
                            0.1111111111111111,
                            "#46039f"
                          ],
                          [
                            0.2222222222222222,
                            "#7201a8"
                          ],
                          [
                            0.3333333333333333,
                            "#9c179e"
                          ],
                          [
                            0.4444444444444444,
                            "#bd3786"
                          ],
                          [
                            0.5555555555555556,
                            "#d8576b"
                          ],
                          [
                            0.6666666666666666,
                            "#ed7953"
                          ],
                          [
                            0.7777777777777778,
                            "#fb9f3a"
                          ],
                          [
                            0.8888888888888888,
                            "#fdca26"
                          ],
                          [
                            1,
                            "#f0f921"
                          ]
                        ],
                        "type": "histogram2dcontour"
                      }
                    ],
                    "mesh3d": [
                      {
                        "colorbar": {
                          "outlinewidth": 0,
                          "ticks": ""
                        },
                        "type": "mesh3d"
                      }
                    ],
                    "parcoords": [
                      {
                        "line": {
                          "colorbar": {
                            "outlinewidth": 0,
                            "ticks": ""
                          }
                        },
                        "type": "parcoords"
                      }
                    ],
                    "pie": [
                      {
                        "automargin": true,
                        "type": "pie"
                      }
                    ],
                    "scatter": [
                      {
                        "fillpattern": {
                          "fillmode": "overlay",
                          "size": 10,
                          "solidity": 0.2
                        },
                        "type": "scatter"
                      }
                    ],
                    "scatter3d": [
                      {
                        "line": {
                          "colorbar": {
                            "outlinewidth": 0,
                            "ticks": ""
                          }
                        },
                        "marker": {
                          "colorbar": {
                            "outlinewidth": 0,
                            "ticks": ""
                          }
                        },
                        "type": "scatter3d"
                      }
                    ],
                    "scattercarpet": [
                      {
                        "marker": {
                          "colorbar": {
                            "outlinewidth": 0,
                            "ticks": ""
                          }
                        },
                        "type": "scattercarpet"
                      }
                    ],
                    "scattergeo": [
                      {
                        "marker": {
                          "colorbar": {
                            "outlinewidth": 0,
                            "ticks": ""
                          }
                        },
                        "type": "scattergeo"
                      }
                    ],
                    "scattergl": [
                      {
                        "marker": {
                          "colorbar": {
                            "outlinewidth": 0,
                            "ticks": ""
                          }
                        },
                        "type": "scattergl"
                      }
                    ],
                    "scattermapbox": [
                      {
                        "marker": {
                          "colorbar": {
                            "outlinewidth": 0,
                            "ticks": ""
                          }
                        },
                        "type": "scattermapbox"
                      }
                    ],
                    "scatterpolar": [
                      {
                        "marker": {
                          "colorbar": {
                            "outlinewidth": 0,
                            "ticks": ""
                          }
                        },
                        "type": "scatterpolar"
                      }
                    ],
                    "scatterpolargl": [
                      {
                        "marker": {
                          "colorbar": {
                            "outlinewidth": 0,
                            "ticks": ""
                          }
                        },
                        "type": "scatterpolargl"
                      }
                    ],
                    "scatterternary": [
                      {
                        "marker": {
                          "colorbar": {
                            "outlinewidth": 0,
                            "ticks": ""
                          }
                        },
                        "type": "scatterternary"
                      }
                    ],
                    "surface": [
                      {
                        "colorbar": {
                          "outlinewidth": 0,
                          "ticks": ""
                        },
                        "colorscale": [
                          [
                            0,
                            "#0d0887"
                          ],
                          [
                            0.1111111111111111,
                            "#46039f"
                          ],
                          [
                            0.2222222222222222,
                            "#7201a8"
                          ],
                          [
                            0.3333333333333333,
                            "#9c179e"
                          ],
                          [
                            0.4444444444444444,
                            "#bd3786"
                          ],
                          [
                            0.5555555555555556,
                            "#d8576b"
                          ],
                          [
                            0.6666666666666666,
                            "#ed7953"
                          ],
                          [
                            0.7777777777777778,
                            "#fb9f3a"
                          ],
                          [
                            0.8888888888888888,
                            "#fdca26"
                          ],
                          [
                            1,
                            "#f0f921"
                          ]
                        ],
                        "type": "surface"
                      }
                    ],
                    "table": [
                      {
                        "cells": {
                          "fill": {
                            "color": "#EBF0F8"
                          },
                          "line": {
                            "color": "white"
                          }
                        },
                        "header": {
                          "fill": {
                            "color": "#C8D4E3"
                          },
                          "line": {
                            "color": "white"
                          }
                        },
                        "type": "table"
                      }
                    ]
                  },
                  "layout": {
                    "annotationdefaults": {
                      "arrowcolor": "#2a3f5f",
                      "arrowhead": 0,
                      "arrowwidth": 1
                    },
                    "autotypenumbers": "strict",
                    "coloraxis": {
                      "colorbar": {
                        "outlinewidth": 0,
                        "ticks": ""
                      }
                    },
                    "colorscale": {
                      "diverging": [
                        [
                          0,
                          "#8e0152"
                        ],
                        [
                          0.1,
                          "#c51b7d"
                        ],
                        [
                          0.2,
                          "#de77ae"
                        ],
                        [
                          0.3,
                          "#f1b6da"
                        ],
                        [
                          0.4,
                          "#fde0ef"
                        ],
                        [
                          0.5,
                          "#f7f7f7"
                        ],
                        [
                          0.6,
                          "#e6f5d0"
                        ],
                        [
                          0.7,
                          "#b8e186"
                        ],
                        [
                          0.8,
                          "#7fbc41"
                        ],
                        [
                          0.9,
                          "#4d9221"
                        ],
                        [
                          1,
                          "#276419"
                        ]
                      ],
                      "sequential": [
                        [
                          0,
                          "#0d0887"
                        ],
                        [
                          0.1111111111111111,
                          "#46039f"
                        ],
                        [
                          0.2222222222222222,
                          "#7201a8"
                        ],
                        [
                          0.3333333333333333,
                          "#9c179e"
                        ],
                        [
                          0.4444444444444444,
                          "#bd3786"
                        ],
                        [
                          0.5555555555555556,
                          "#d8576b"
                        ],
                        [
                          0.6666666666666666,
                          "#ed7953"
                        ],
                        [
                          0.7777777777777778,
                          "#fb9f3a"
                        ],
                        [
                          0.8888888888888888,
                          "#fdca26"
                        ],
                        [
                          1,
                          "#f0f921"
                        ]
                      ],
                      "sequentialminus": [
                        [
                          0,
                          "#0d0887"
                        ],
                        [
                          0.1111111111111111,
                          "#46039f"
                        ],
                        [
                          0.2222222222222222,
                          "#7201a8"
                        ],
                        [
                          0.3333333333333333,
                          "#9c179e"
                        ],
                        [
                          0.4444444444444444,
                          "#bd3786"
                        ],
                        [
                          0.5555555555555556,
                          "#d8576b"
                        ],
                        [
                          0.6666666666666666,
                          "#ed7953"
                        ],
                        [
                          0.7777777777777778,
                          "#fb9f3a"
                        ],
                        [
                          0.8888888888888888,
                          "#fdca26"
                        ],
                        [
                          1,
                          "#f0f921"
                        ]
                      ]
                    },
                    "colorway": [
                      "#636efa",
                      "#EF553B",
                      "#00cc96",
                      "#ab63fa",
                      "#FFA15A",
                      "#19d3f3",
                      "#FF6692",
                      "#B6E880",
                      "#FF97FF",
                      "#FECB52"
                    ],
                    "font": {
                      "color": "#2a3f5f"
                    },
                    "geo": {
                      "bgcolor": "white",
                      "lakecolor": "white",
                      "landcolor": "#E5ECF6",
                      "showlakes": true,
                      "showland": true,
                      "subunitcolor": "white"
                    },
                    "hoverlabel": {
                      "align": "left"
                    },
                    "hovermode": "closest",
                    "mapbox": {
                      "style": "light"
                    },
                    "paper_bgcolor": "white",
                    "plot_bgcolor": "#E5ECF6",
                    "polar": {
                      "angularaxis": {
                        "gridcolor": "white",
                        "linecolor": "white",
                        "ticks": ""
                      },
                      "bgcolor": "#E5ECF6",
                      "radialaxis": {
                        "gridcolor": "white",
                        "linecolor": "white",
                        "ticks": ""
                      }
                    },
                    "scene": {
                      "xaxis": {
                        "backgroundcolor": "#E5ECF6",
                        "gridcolor": "white",
                        "gridwidth": 2,
                        "linecolor": "white",
                        "showbackground": true,
                        "ticks": "",
                        "zerolinecolor": "white"
                      },
                      "yaxis": {
                        "backgroundcolor": "#E5ECF6",
                        "gridcolor": "white",
                        "gridwidth": 2,
                        "linecolor": "white",
                        "showbackground": true,
                        "ticks": "",
                        "zerolinecolor": "white"
                      },
                      "zaxis": {
                        "backgroundcolor": "#E5ECF6",
                        "gridcolor": "white",
                        "gridwidth": 2,
                        "linecolor": "white",
                        "showbackground": true,
                        "ticks": "",
                        "zerolinecolor": "white"
                      }
                    },
                    "shapedefaults": {
                      "line": {
                        "color": "#2a3f5f"
                      }
                    },
                    "ternary": {
                      "aaxis": {
                        "gridcolor": "white",
                        "linecolor": "white",
                        "ticks": ""
                      },
                      "baxis": {
                        "gridcolor": "white",
                        "linecolor": "white",
                        "ticks": ""
                      },
                      "bgcolor": "#E5ECF6",
                      "caxis": {
                        "gridcolor": "white",
                        "linecolor": "white",
                        "ticks": ""
                      }
                    },
                    "title": {
                      "x": 0.05
                    },
                    "xaxis": {
                      "automargin": true,
                      "gridcolor": "white",
                      "linecolor": "white",
                      "ticks": "",
                      "title": {
                        "standoff": 15
                      },
                      "zerolinecolor": "white",
                      "zerolinewidth": 2
                    },
                    "yaxis": {
                      "automargin": true,
                      "gridcolor": "white",
                      "linecolor": "white",
                      "ticks": "",
                      "title": {
                        "standoff": 15
                      },
                      "zerolinecolor": "white",
                      "zerolinewidth": 2
                    }
                  }
                },
                "width": 1000,
                "xaxis": {
                  "anchor": "y",
                  "domain": [
                    0,
                    0.2075
                  ]
                },
                "xaxis10": {
                  "anchor": "y10",
                  "domain": [
                    0.2575,
                    0.46499999999999997
                  ]
                },
                "xaxis11": {
                  "anchor": "y11",
                  "domain": [
                    0.515,
                    0.7225
                  ]
                },
                "xaxis12": {
                  "anchor": "y12",
                  "domain": [
                    0.7725,
                    0.98
                  ]
                },
                "xaxis2": {
                  "anchor": "y2",
                  "domain": [
                    0.2575,
                    0.46499999999999997
                  ]
                },
                "xaxis3": {
                  "anchor": "y3",
                  "domain": [
                    0.515,
                    0.7225
                  ]
                },
                "xaxis4": {
                  "anchor": "y4",
                  "domain": [
                    0.7725,
                    0.98
                  ]
                },
                "xaxis5": {
                  "anchor": "y5",
                  "domain": [
                    0,
                    0.2075
                  ]
                },
                "xaxis6": {
                  "anchor": "y6",
                  "domain": [
                    0.2575,
                    0.46499999999999997
                  ]
                },
                "xaxis7": {
                  "anchor": "y7",
                  "domain": [
                    0.515,
                    0.7225
                  ]
                },
                "xaxis8": {
                  "anchor": "y8",
                  "domain": [
                    0.7725,
                    0.98
                  ]
                },
                "xaxis9": {
                  "anchor": "y9",
                  "domain": [
                    0,
                    0.2075
                  ]
                },
                "yaxis": {
                  "anchor": "x",
                  "domain": [
                    0.7666666666666666,
                    0.9999999999999999
                  ]
                },
                "yaxis10": {
                  "anchor": "x10",
                  "domain": [
                    0,
                    0.2333333333333333
                  ]
                },
                "yaxis11": {
                  "anchor": "x11",
                  "domain": [
                    0,
                    0.2333333333333333
                  ]
                },
                "yaxis12": {
                  "anchor": "x12",
                  "domain": [
                    0,
                    0.2333333333333333
                  ]
                },
                "yaxis2": {
                  "anchor": "x2",
                  "domain": [
                    0.7666666666666666,
                    0.9999999999999999
                  ]
                },
                "yaxis3": {
                  "anchor": "x3",
                  "domain": [
                    0.7666666666666666,
                    0.9999999999999999
                  ]
                },
                "yaxis4": {
                  "anchor": "x4",
                  "domain": [
                    0.7666666666666666,
                    0.9999999999999999
                  ]
                },
                "yaxis5": {
                  "anchor": "x5",
                  "domain": [
                    0.3833333333333333,
                    0.6166666666666666
                  ]
                },
                "yaxis6": {
                  "anchor": "x6",
                  "domain": [
                    0.3833333333333333,
                    0.6166666666666666
                  ]
                },
                "yaxis7": {
                  "anchor": "x7",
                  "domain": [
                    0.3833333333333333,
                    0.6166666666666666
                  ]
                },
                "yaxis8": {
                  "anchor": "x8",
                  "domain": [
                    0.3833333333333333,
                    0.6166666666666666
                  ]
                },
                "yaxis9": {
                  "anchor": "x9",
                  "domain": [
                    0,
                    0.2333333333333333
                  ]
                }
              }
            }
          },
          "metadata": {},
          "output_type": "display_data"
        }
      ],
      "source": [
        "#for df in ajio_results:\n",
        "fig = make_subplots(rows=3, cols=4,\n",
        "                    vertical_spacing=0.15,\n",
        "                    column_titles =['Mono-grams','Bi-grams','Tri-grams','Tetra-grams'],\n",
        "                    row_titles =['Positive','Neutral','Negative'],                  \n",
        "      \n",
        "                   )\n",
        "#for df in ajio_results:\n",
        "fig.add_trace(go.Bar(\n",
        "            x = ajio_results[0][ajio_results[0].columns[0]].head(),\n",
        "            y = ajio_results[0][ajio_results[0].columns[1]].head(),\n",
        "            marker_color='DeepSkyBlue',\n",
        "            ),row=1, col=1)\n",
        "fig.add_trace(go.Bar(\n",
        "            x = ajio_results[1][ajio_results[1].columns[0]].head(),\n",
        "            y = ajio_results[1][ajio_results[1].columns[1]].head(),\n",
        "            marker_color='DeepSkyBlue',\n",
        "            ),row=1, col=2)\n",
        "fig.add_trace(go.Bar(\n",
        "            x = ajio_results[2][ajio_results[2].columns[0]].head(),\n",
        "            y = ajio_results[2][ajio_results[2].columns[1]].head(),\n",
        "            marker_color='DeepSkyBlue',\n",
        "            ),row=1, col=3)\n",
        "    # neu\n",
        "fig.add_trace(go.Bar(\n",
        "            x = ajio_results[3][ajio_results[3].columns[0]].head(),\n",
        "            y = ajio_results[3][ajio_results[3].columns[1]].head(),\n",
        "            marker_color='DeepSkyBlue',\n",
        "            ),row=1, col=4)\n",
        "fig.add_trace(go.Bar(\n",
        "            x = ajio_results[4][ajio_results[4].columns[0]].head(),\n",
        "            y = ajio_results[4][ajio_results[4].columns[1]].head(),\n",
        "            marker_color='Lightgrey',\n",
        "            ),row=2, col=1)\n",
        "fig.add_trace(go.Bar(\n",
        "            x = ajio_results[5][ajio_results[5].columns[0]].head(),\n",
        "            y = ajio_results[5][ajio_results[5].columns[1]].head(),\n",
        "            marker_color='Lightgrey',\n",
        "            ),row=2, col=2)\n",
        "    # neg\n",
        "fig.add_trace(go.Bar(\n",
        "            x = ajio_results[6][ajio_results[6].columns[0]].head(),\n",
        "            y = ajio_results[6][ajio_results[6].columns[1]].head(),\n",
        "            marker_color='Lightgrey',\n",
        "            ),row=2, col=3)\n",
        "fig.add_trace(go.Bar(\n",
        "            x = ajio_results[7][ajio_results[7].columns[0]].head(),\n",
        "            y = ajio_results[7][ajio_results[7].columns[1]].head(),\n",
        "            marker_color='Lightgrey',\n",
        "            ),row=2, col=4)\n",
        "fig.add_trace(go.Bar(\n",
        "            x = ajio_results[8][ajio_results[8].columns[0]].head(),\n",
        "            y = ajio_results[8][ajio_results[8].columns[1]].head(),\n",
        "            marker_color='Crimson',\n",
        "            ),row=3, col=1)\n",
        "fig.add_trace(go.Bar(\n",
        "            x = ajio_results[9][ajio_results[9].columns[0]].head(),\n",
        "            y = ajio_results[9][ajio_results[9].columns[1]].head(),\n",
        "            marker_color='Crimson',\n",
        "            ),row=3, col=2)\n",
        "fig.add_trace(go.Bar(\n",
        "            x = ajio_results[10][ajio_results[10].columns[0]].head(),\n",
        "            y = ajio_results[10][ajio_results[10].columns[1]].head(),\n",
        "            marker_color='Crimson',\n",
        "            ),row=3, col=3)\n",
        "fig.add_trace(go.Bar(\n",
        "            x = ajio_results[11][ajio_results[11].columns[0]].head(),\n",
        "            y = ajio_results[11][ajio_results[11].columns[1]].head(),\n",
        "            marker_color='Crimson',\n",
        "            ),row=3, col=4)\n",
        "\n",
        "\n",
        "    \n",
        "#\n",
        "fig.update_layout({\"showlegend\": False},height=900, width=1000)\n",
        "fig.show()"
      ]
    },
    {
      "attachments": {},
      "cell_type": "markdown",
      "metadata": {
        "id": "PveGuP72Yw2x"
      },
      "source": [
        "* Positive app reviews highlight ease of use, love for Ajio shopping, and product quality. \n",
        "* Neutral reviews mention areas for improvement like wish lists, Kindle books, and Ajio Smile. \n",
        "* Negative reviews focus on recent updates, error messages something go wrong and customer service issues. \n",
        "* Improving customer service can enhance the overall app experience.\n",
        "\n",
        "\n",
        "\n",
        "\n"
      ]
    },
    {
      "attachments": {},
      "cell_type": "markdown",
      "metadata": {
        "id": "j-NHV_J64uDC"
      },
      "source": [
        "<a id=\"Modeling\"></a>\n",
        "# 8 - Modeling"
      ]
    },
    {
      "attachments": {},
      "cell_type": "markdown",
      "metadata": {
        "id": "gOCtIqwBYw2z"
      },
      "source": [
        "<a id=\"TTS\"></a>\n",
        "## 8.1 - Train Test Split"
      ]
    },
    {
      "cell_type": "code",
      "execution_count": 43,
      "metadata": {
        "id": "Koxb5uL0Yw20",
        "trusted": true
      },
      "outputs": [],
      "source": [
        "from sklearn.model_selection import train_test_split"
      ]
    },
    {
      "cell_type": "code",
      "execution_count": 44,
      "metadata": {
        "id": "0-NxrGqIYw21",
        "trusted": true
      },
      "outputs": [],
      "source": [
        "y =  df[df.columns[1:]].values"
      ]
    },
    {
      "cell_type": "code",
      "execution_count": 45,
      "metadata": {
        "id": "fAZe9CuRYw21",
        "trusted": true
      },
      "outputs": [],
      "source": [
        "X = []\n",
        "\n",
        "sentences = list(df[\"reviews\"])\n",
        "for sen in sentences:\n",
        "    X.append(sen)"
      ]
    },
    {
      "cell_type": "code",
      "execution_count": 46,
      "metadata": {
        "id": "LeTp3samYw22",
        "trusted": true
      },
      "outputs": [],
      "source": [
        "X_train, X_test, y_train, y_test = train_test_split(X, y, test_size=0.20, random_state=42)"
      ]
    },
    {
      "attachments": {},
      "cell_type": "markdown",
      "metadata": {
        "id": "wO8DYAFdYw22"
      },
      "source": [
        "<a id=\"E\"></a>\n",
        "## 8.2 - Embedding"
      ]
    },
    {
      "cell_type": "code",
      "execution_count": 47,
      "metadata": {
        "id": "3_gy4dv3Yw24",
        "trusted": true
      },
      "outputs": [],
      "source": [
        "from tensorflow.keras.preprocessing.text import Tokenizer\n",
        "from tensorflow.keras.preprocessing.sequence import pad_sequences"
      ]
    },
    {
      "cell_type": "code",
      "execution_count": 48,
      "metadata": {
        "id": "IIAsPcCJYw24",
        "trusted": true
      },
      "outputs": [],
      "source": [
        "# Defining the num of words\n",
        "tokenizer = Tokenizer(num_words=5000)\n",
        "# Fighting in the X df\n",
        "tokenizer.fit_on_texts(X)\n",
        "\n",
        "# Tokenizing Train and test\n",
        "\n",
        "X_prep = tokenizer.texts_to_sequences(X_train)\n",
        "X_test = tokenizer.texts_to_sequences(X_test)\n",
        "\n",
        "vocab_size = len(tokenizer.word_index) + 1\n",
        "\n",
        "# Setting the max length of features\n",
        "\n",
        "maxlen = 200\n",
        "\n",
        "# Ensuring the all sequences have the same length\n",
        "X_train = pad_sequences(X_prep, padding='post', maxlen=maxlen)\n",
        "X_test = pad_sequences(X_test, padding='post', maxlen=maxlen)"
      ]
    },
    {
      "attachments": {},
      "cell_type": "markdown",
      "metadata": {
        "id": "qWcYCA8yYw25"
      },
      "source": [
        "We will be using numpy arrays and GloVe word embeddings to convert text inputs to their numeric counterparts."
      ]
    },
    {
      "cell_type": "code",
      "execution_count": 49,
      "metadata": {
        "id": "Nn2AF-VzYw25",
        "trusted": true
      },
      "outputs": [],
      "source": [
        "from numpy import array\n",
        "from numpy import asarray\n",
        "from numpy import zeros"
      ]
    },
    {
      "cell_type": "code",
      "execution_count": 51,
      "metadata": {
        "id": "u0_M43duYw26",
        "trusted": true
      },
      "outputs": [],
      "source": [
        "import numpy as np\n",
        "\n",
        "embeddings_dictionary = dict()\n",
        "glove_file = open('E:\\Capstone_1\\glove.6B.100d.txt', encoding=\"utf8\")\n",
        "\n",
        "for line in glove_file:\n",
        "    records = line.split()\n",
        "    word = records[0]\n",
        "    vector_dimensions = np.asarray(records[1:], dtype='float32')\n",
        "    embeddings_dictionary[word] = vector_dimensions\n",
        "glove_file.close()\n",
        "\n",
        "embedding_matrix = np.zeros((vocab_size, 100))\n",
        "for word, index in tokenizer.word_index.items():\n",
        "    embedding_vector = embeddings_dictionary.get(word)\n",
        "    if embedding_vector is not None:\n",
        "        embedding_matrix[index] = embedding_vector\n"
      ]
    },
    {
      "attachments": {},
      "cell_type": "markdown",
      "metadata": {
        "id": "vv7aOc1YYw27"
      },
      "source": [
        "<a id=\"B\"></a>\n",
        "## 8.3 - Balancing"
      ]
    },
    {
      "attachments": {},
      "cell_type": "markdown",
      "metadata": {
        "id": "MGdkvucYYw27"
      },
      "source": [
        "As seen before, the data set is highly unbalanced, to be more precise in the results we will balance the dataset using the imblearn Random OverSampling technique."
      ]
    },
    {
      "cell_type": "code",
      "execution_count": 52,
      "metadata": {
        "colab": {
          "base_uri": "https://localhost:8080/"
        },
        "id": "yx6wFg0SYw28",
        "outputId": "2506efc5-b43e-4b43-fb13-5feef01a0f58",
        "trusted": true
      },
      "outputs": [
        {
          "name": "stdout",
          "output_type": "stream",
          "text": [
            "Negative 38779\n",
            "Neutral 4366\n",
            "Positve 24247\n"
          ]
        }
      ],
      "source": [
        "print('Negative',pd.DataFrame(y_train).sum()[0])\n",
        "print('Neutral',pd.DataFrame(y_train).sum()[1])\n",
        "print('Positve',pd.DataFrame(y_train).sum()[2])"
      ]
    },
    {
      "cell_type": "code",
      "execution_count": 55,
      "metadata": {
        "id": "7oUx_mZxYw29",
        "trusted": true
      },
      "outputs": [],
      "source": [
        "from imblearn.over_sampling import RandomOverSampler"
      ]
    },
    {
      "cell_type": "code",
      "execution_count": 56,
      "metadata": {
        "id": "u6VVN-JhYw2-",
        "trusted": true
      },
      "outputs": [],
      "source": [
        "over = RandomOverSampler()\n",
        "    \n",
        "X_ov, y_ov = over.fit_resample(X_train, y_train)"
      ]
    },
    {
      "cell_type": "code",
      "execution_count": 57,
      "metadata": {
        "colab": {
          "base_uri": "https://localhost:8080/"
        },
        "id": "lzrc336dYw2-",
        "outputId": "c6b4ad69-5e7b-4629-a4a8-d2931995ce3e",
        "trusted": true
      },
      "outputs": [
        {
          "name": "stdout",
          "output_type": "stream",
          "text": [
            "Negative 38779\n",
            "Neutral 38779\n",
            "Positve 38779\n"
          ]
        }
      ],
      "source": [
        "print('Negative',pd.DataFrame(y_ov).sum()[0])\n",
        "print('Neutral',pd.DataFrame(y_ov).sum()[1])\n",
        "print('Positve',pd.DataFrame(y_ov).sum()[2])\n"
      ]
    },
    {
      "attachments": {},
      "cell_type": "markdown",
      "metadata": {
        "id": "ws1scPriYw2_"
      },
      "source": [
        "<a id=\"FS\"></a>\n",
        "## 8.4 - Featuring Selection"
      ]
    },
    {
      "attachments": {},
      "cell_type": "markdown",
      "metadata": {
        "id": "lOmJf7TXYw3A"
      },
      "source": [
        "In order to prevent overfitting we are going to reduce the features of the data frame. To do that we are going to use one of the simplest and most common ways to select relevant features for classification which is to calculate the F-Score for each feature. \n",
        " \n",
        "The F-Score is calculated using the variance between the features and the variance within each feature. A small F-score usually means that the feature is less important than a feature with a high F-score. We will calculate the F-Score of the features per sentiment using sklearn modules SelectKBest and f_classif to return the ANOVA F-value.\n",
        " \n",
        " \n",
        "I highly recommend see the Nils Schlüter [Medium article](https://towardsdatascience.com/dont-overfit-how-to-prevent-overfitting-in-your-deep-learning-models-63274e552323) for more ways to prevent overfitting in Deep Learning Models.\n"
      ]
    },
    {
      "cell_type": "code",
      "execution_count": 58,
      "metadata": {
        "id": "OujibZOzYw3B",
        "trusted": true
      },
      "outputs": [],
      "source": [
        "from sklearn.feature_selection import f_classif, SelectKBest"
      ]
    },
    {
      "cell_type": "code",
      "execution_count": 59,
      "metadata": {
        "colab": {
          "base_uri": "https://localhost:8080/"
        },
        "id": "Ey1TpK1qYw3B",
        "outputId": "c4def286-3a74-43d0-f3c5-45b718dd8081",
        "trusted": true
      },
      "outputs": [
        {
          "name": "stderr",
          "output_type": "stream",
          "text": [
            "c:\\Users\\HP\\AppData\\Local\\Programs\\Python\\Python311\\Lib\\site-packages\\sklearn\\feature_selection\\_univariate_selection.py:112: UserWarning:\n",
            "\n",
            "Features [ 87  88  89  90  91  92  93  94  95  96  97  98  99 100 101 102 103 104\n",
            " 105 106 107 108 109 110 111 112 113 114 115 116 117 118 119 120 121 122\n",
            " 123 124 125 126 127 128 129 130 131 132 133 134 135 136 137 138 139 140\n",
            " 141 142 143 144 145 146 147 148 149 150 151 152 153 154 155 156 157 158\n",
            " 159 160 161 162 163 164 165 166 167 168 169 170 171 172 173 174 175 176\n",
            " 177 178 179 180 181 182 183 184 185 186 187 188 189 190 191 192 193 194\n",
            " 195 196 197 198 199] are constant.\n",
            "\n",
            "c:\\Users\\HP\\AppData\\Local\\Programs\\Python\\Python311\\Lib\\site-packages\\sklearn\\feature_selection\\_univariate_selection.py:113: RuntimeWarning:\n",
            "\n",
            "invalid value encountered in divide\n",
            "\n",
            "c:\\Users\\HP\\AppData\\Local\\Programs\\Python\\Python311\\Lib\\site-packages\\sklearn\\feature_selection\\_univariate_selection.py:112: UserWarning:\n",
            "\n",
            "Features [ 87  88  89  90  91  92  93  94  95  96  97  98  99 100 101 102 103 104\n",
            " 105 106 107 108 109 110 111 112 113 114 115 116 117 118 119 120 121 122\n",
            " 123 124 125 126 127 128 129 130 131 132 133 134 135 136 137 138 139 140\n",
            " 141 142 143 144 145 146 147 148 149 150 151 152 153 154 155 156 157 158\n",
            " 159 160 161 162 163 164 165 166 167 168 169 170 171 172 173 174 175 176\n",
            " 177 178 179 180 181 182 183 184 185 186 187 188 189 190 191 192 193 194\n",
            " 195 196 197 198 199] are constant.\n",
            "\n",
            "c:\\Users\\HP\\AppData\\Local\\Programs\\Python\\Python311\\Lib\\site-packages\\sklearn\\feature_selection\\_univariate_selection.py:113: RuntimeWarning:\n",
            "\n",
            "invalid value encountered in divide\n",
            "\n",
            "c:\\Users\\HP\\AppData\\Local\\Programs\\Python\\Python311\\Lib\\site-packages\\sklearn\\feature_selection\\_univariate_selection.py:112: UserWarning:\n",
            "\n",
            "Features [ 87  88  89  90  91  92  93  94  95  96  97  98  99 100 101 102 103 104\n",
            " 105 106 107 108 109 110 111 112 113 114 115 116 117 118 119 120 121 122\n",
            " 123 124 125 126 127 128 129 130 131 132 133 134 135 136 137 138 139 140\n",
            " 141 142 143 144 145 146 147 148 149 150 151 152 153 154 155 156 157 158\n",
            " 159 160 161 162 163 164 165 166 167 168 169 170 171 172 173 174 175 176\n",
            " 177 178 179 180 181 182 183 184 185 186 187 188 189 190 191 192 193 194\n",
            " 195 196 197 198 199] are constant.\n",
            "\n",
            "c:\\Users\\HP\\AppData\\Local\\Programs\\Python\\Python311\\Lib\\site-packages\\sklearn\\feature_selection\\_univariate_selection.py:113: RuntimeWarning:\n",
            "\n",
            "invalid value encountered in divide\n",
            "\n"
          ]
        }
      ],
      "source": [
        "selected_features = [] \n",
        "for label in range(0,3):\n",
        "    selector = SelectKBest(f_classif, k='all')\n",
        "    selector.fit(X_ov, pd.DataFrame(y_ov)[label])\n",
        "    selected_features.append(list(selector.scores_))"
      ]
    },
    {
      "cell_type": "code",
      "execution_count": 60,
      "metadata": {
        "id": "XAj0BNrV7W32"
      },
      "outputs": [],
      "source": [
        "import matplotlib.pyplot as plt"
      ]
    },
    {
      "cell_type": "code",
      "execution_count": 61,
      "metadata": {
        "colab": {
          "base_uri": "https://localhost:8080/",
          "height": 487
        },
        "id": "R_V3tE3rYw3D",
        "outputId": "de29102a-0676-44dd-d013-cac6d895cd65",
        "trusted": true
      },
      "outputs": [
        {
          "data": {
            "image/png": "[encoded data removed]",
            "text/plain": [
              "<Figure size 800x500 with 1 Axes>"
            ]
          },
          "metadata": {},
          "output_type": "display_data"
        }
      ],
      "source": [
        "plt.figure(figsize=(8, 5))\n",
        "plt.plot(selected_features[0])\n",
        "plt.plot(selected_features[1])\n",
        "plt.plot(selected_features[2])\n",
        "\n",
        "plt.title('ANOVA F-value')\n",
        "plt.ylabel('F-value')\n",
        "plt.xlabel('n_feature')\n",
        "plt.legend(['negative','neutral','positive'], loc='upper right')\n",
        "\n",
        "\n",
        "plt.show()"
      ]
    },
    {
      "attachments": {},
      "cell_type": "markdown",
      "metadata": {
        "id": "9_0bJSgBYw3F"
      },
      "source": [
        " As seeing, usually the reviews have the highest F-Scores till the feature around 10. After that the F_store is visually decreasing. \n",
        "So, we will arbitrarily drop the features after the 20.\n"
      ]
    },
    {
      "cell_type": "code",
      "execution_count": 62,
      "metadata": {
        "colab": {
          "base_uri": "https://localhost:8080/",
          "height": 487
        },
        "id": "JEJSpg-jYw3H",
        "outputId": "3ddd2aa3-7a97-4d46-fd97-87a4b3127da9",
        "trusted": true
      },
      "outputs": [
        {
          "data": {
            "image/png": "[encoded data removed]",
            "text/plain": [
              "<Figure size 800x500 with 1 Axes>"
            ]
          },
          "metadata": {},
          "output_type": "display_data"
        }
      ],
      "source": [
        "plt.figure(figsize=(8, 5))\n",
        "plt.plot(pd.DataFrame(selected_features).T[:20][0])\n",
        "plt.plot(pd.DataFrame(selected_features).T[:20][1])\n",
        "plt.plot(pd.DataFrame(selected_features).T[:20][2])\n",
        "\n",
        "plt.title('ANOVA F-value')\n",
        "plt.ylabel('F-value')\n",
        "plt.xlabel('n_feature')\n",
        "plt.legend(['negative','neutral','positive'], loc='upper right')\n",
        "\n",
        "plt.show()"
      ]
    },
    {
      "cell_type": "code",
      "execution_count": 63,
      "metadata": {
        "id": "yBJL-dWOYw3J",
        "trusted": true
      },
      "outputs": [],
      "source": [
        "X_ov=X_ov[:,:20]"
      ]
    },
    {
      "attachments": {},
      "cell_type": "markdown",
      "metadata": {
        "id": "g_pwYgTGYw3K"
      },
      "source": [
        "<a id=\"EM\"></a>\n",
        "## 8.5 -  Evaluation Metrics"
      ]
    },
    {
      "cell_type": "code",
      "execution_count": 64,
      "metadata": {
        "id": "fpD8xBYZYw3M",
        "trusted": true
      },
      "outputs": [],
      "source": [
        "from tensorflow.keras import backend as K"
      ]
    },
    {
      "cell_type": "code",
      "execution_count": 65,
      "metadata": {
        "id": "0CGjOqQNYw3N",
        "trusted": true
      },
      "outputs": [],
      "source": [
        "def recall_m(y_true, y_pred):\n",
        "    true_positives = K.sum(K.round(K.clip(y_true * y_pred, 0, 1)))\n",
        "    possible_positives = K.sum(K.round(K.clip(y_true, 0, 1)))\n",
        "    recall = true_positives / (possible_positives + K.epsilon())\n",
        "    return recall\n"
      ]
    },
    {
      "cell_type": "code",
      "execution_count": 66,
      "metadata": {
        "id": "vE7hNRkeYw3O",
        "trusted": true
      },
      "outputs": [],
      "source": [
        "\n",
        "def precision_m(y_true, y_pred):\n",
        "    true_positives = K.sum(K.round(K.clip(y_true * y_pred, 0, 1)))\n",
        "    predicted_positives = K.sum(K.round(K.clip(y_pred, 0, 1)))\n",
        "    precision = true_positives / (predicted_positives + K.epsilon())\n",
        "    return precision"
      ]
    },
    {
      "cell_type": "code",
      "execution_count": 67,
      "metadata": {
        "id": "iWJXJCRyYw3Q",
        "trusted": true
      },
      "outputs": [],
      "source": [
        "def f1_m(y_true, y_pred):\n",
        "    precision = precision_m(y_true, y_pred)\n",
        "    recall = recall_m(y_true, y_pred)\n",
        "    return 2*((precision*recall)/(precision+recall+K.epsilon()))"
      ]
    },
    {
      "attachments": {},
      "cell_type": "markdown",
      "metadata": {
        "id": "l7NhIyu0Yw3R"
      },
      "source": [
        "<a id=\"NN\"></a>\n",
        "## 8.6 -  Neural Networks"
      ]
    },
    {
      "attachments": {},
      "cell_type": "markdown",
      "metadata": {
        "id": "ZHm6JoQTYw3S"
      },
      "source": [
        "To create a model to predict the text sentiment, we will have one input layer shape 20, the number of features. One Embedding Layer that takes the vocab size and the embedding matrix created before. One Long Short-Term Memory (LSTM) layer with 128 neurons and finely the output layer with 3 neurons since we have 3 labels in the output, Positive, Neutral and Negative.\n",
        "\n",
        "We are going to use keras model module and keras.layers, Dense, LSTM and Embedding.\n",
        "\n",
        "For the metrics we will set Accuracy, F1, Precision and Recall that we defined above.\n"
      ]
    },
    {
      "cell_type": "code",
      "execution_count": 68,
      "metadata": {
        "id": "euZxWS-DYw3U",
        "trusted": true
      },
      "outputs": [],
      "source": [
        "from tensorflow.keras import Model\n",
        "from tensorflow.keras.layers import Dense, LSTM, Input, Embedding"
      ]
    },
    {
      "cell_type": "code",
      "execution_count": 69,
      "metadata": {
        "id": "PmSLl7CbYw3V",
        "trusted": true
      },
      "outputs": [],
      "source": [
        "from keras.layers import Dropout\n",
        "\n",
        "deep_inputs = Input(shape=(20,))\n",
        "embedding_layer = Embedding(vocab_size, 100, weights=[embedding_matrix], trainable=False)(deep_inputs)\n",
        "LSTM_Layer_1 = LSTM(128)(embedding_layer)\n",
        "dropout_layer = Dropout(0.2)(LSTM_Layer_1)  # Add dropout with a rate of 0.2\n",
        "dense_layer_1 = Dense(3, activation='sigmoid')(dropout_layer)\n",
        "model = Model(inputs=deep_inputs, outputs=dense_layer_1)\n",
        "\n",
        "model.compile(loss='binary_crossentropy', optimizer='adam', metrics=['acc', f1_m, precision_m, recall_m])\n"
      ]
    },
    {
      "attachments": {},
      "cell_type": "markdown",
      "metadata": {
        "id": "ii3_z1IhYw3V"
      },
      "source": [
        "\n",
        "Printing the model summary:\n"
      ]
    },
    {
      "cell_type": "code",
      "execution_count": 70,
      "metadata": {
        "colab": {
          "base_uri": "https://localhost:8080/"
        },
        "id": "dN9n69-kYw3W",
        "outputId": "a9b67e9d-6db1-4c13-b789-53057cd218ee",
        "trusted": true
      },
      "outputs": [
        {
          "name": "stdout",
          "output_type": "stream",
          "text": [
            "Model: \"model\"\n",
            "_________________________________________________________________\n",
            " Layer (type)                Output Shape              Param #   \n",
            "=================================================================\n",
            " input_1 (InputLayer)        [(None, 20)]              0         \n",
            "                                                                 \n",
            " embedding (Embedding)       (None, 20, 100)           2152300   \n",
            "                                                                 \n",
            " lstm (LSTM)                 (None, 128)               117248    \n",
            "                                                                 \n",
            " dropout (Dropout)           (None, 128)               0         \n",
            "                                                                 \n",
            " dense (Dense)               (None, 3)                 387       \n",
            "                                                                 \n",
            "=================================================================\n",
            "Total params: 2,269,935\n",
            "Trainable params: 117,635\n",
            "Non-trainable params: 2,152,300\n",
            "_________________________________________________________________\n",
            "None\n"
          ]
        }
      ],
      "source": [
        "print(model.summary())"
      ]
    },
    {
      "attachments": {},
      "cell_type": "markdown",
      "metadata": {
        "id": "5BtLosQrYw3Y"
      },
      "source": [
        "Let's train our model with 0.7 of the random oversampling DF. Batch_size 32 and apochs 10. The other 0.3 of the DF will be used for the validation."
      ]
    },
    {
      "cell_type": "code",
      "execution_count": 171,
      "metadata": {
        "colab": {
          "base_uri": "https://localhost:8080/"
        },
        "id": "3RpxARvLYw3Z",
        "outputId": "f919a19f-d07c-4ebb-f75e-0540359090ba",
        "trusted": true
      },
      "outputs": [
        {
          "name": "stdout",
          "output_type": "stream",
          "text": [
            "Epoch 1/6\n",
            "2545/2545 [==============================] - 23s 8ms/step - loss: 0.3889 - acc: 0.7249 - f1_m: 0.7051 - precision_m: 0.7859 - recall_m: 0.6432 - val_loss: 0.5222 - val_acc: 0.6408 - val_f1_m: 0.5987 - val_precision_m: 0.6568 - val_recall_m: 0.5529\n",
            "Epoch 2/6\n",
            "2545/2545 [==============================] - 17s 7ms/step - loss: 0.3596 - acc: 0.7524 - f1_m: 0.7403 - precision_m: 0.7900 - recall_m: 0.6983 - val_loss: 0.5310 - val_acc: 0.6362 - val_f1_m: 0.5972 - val_precision_m: 0.6427 - val_recall_m: 0.5598\n",
            "Epoch 3/6\n",
            "2545/2545 [==============================] - 17s 7ms/step - loss: 0.3370 - acc: 0.7746 - f1_m: 0.7660 - precision_m: 0.8028 - recall_m: 0.7337 - val_loss: 0.4486 - val_acc: 0.7161 - val_f1_m: 0.7092 - val_precision_m: 0.7283 - val_recall_m: 0.6918\n",
            "Epoch 4/6\n",
            "2545/2545 [==============================] - 17s 7ms/step - loss: 0.3100 - acc: 0.7979 - f1_m: 0.7925 - precision_m: 0.8211 - recall_m: 0.7669 - val_loss: 0.4249 - val_acc: 0.7308 - val_f1_m: 0.7233 - val_precision_m: 0.7460 - val_recall_m: 0.7028\n",
            "Epoch 5/6\n",
            "2545/2545 [==============================] - 19s 7ms/step - loss: 0.2785 - acc: 0.8241 - f1_m: 0.8213 - precision_m: 0.8439 - recall_m: 0.8006 - val_loss: 0.3875 - val_acc: 0.7661 - val_f1_m: 0.7583 - val_precision_m: 0.7821 - val_recall_m: 0.7368\n",
            "Epoch 6/6\n",
            "2545/2545 [==============================] - 17s 7ms/step - loss: 0.2470 - acc: 0.8487 - f1_m: 0.8467 - precision_m: 0.8660 - recall_m: 0.8290 - val_loss: 0.3208 - val_acc: 0.8014 - val_f1_m: 0.8020 - val_precision_m: 0.8257 - val_recall_m: 0.7805\n"
          ]
        }
      ],
      "source": [
        "history = model.fit(X_ov, y_ov, batch_size=32, epochs=6, verbose=1, validation_split=0.3)"
      ]
    },
    {
      "attachments": {},
      "cell_type": "markdown",
      "metadata": {
        "id": "Znumya8sYw3a"
      },
      "source": [
        "<a id=\"Results\"></a>\n",
        "# 9 - Results"
      ]
    },
    {
      "attachments": {},
      "cell_type": "markdown",
      "metadata": {
        "id": "xe05zVzdYw3c"
      },
      "source": [
        "Now let's plot the results that our model got. First let's plot the history of the metrics that the model got during the 10 epochs in the train and in the validation data set. \n",
        "Then we are going to build a table to see the metrics \n",
        "achieved in the train and in the test data set and finely we will build a function that put our model in context getting a human comment, appling the text preprocessing and the model to plot the label predicted by our model.\n"
      ]
    },
    {
      "attachments": {},
      "cell_type": "markdown",
      "metadata": {
        "id": "zjp8n8_0Yw3d"
      },
      "source": [
        "<a id=\"PH\"></a>\n",
        "## 9.1 -  Plotting History"
      ]
    },
    {
      "attachments": {},
      "cell_type": "markdown",
      "metadata": {
        "id": "sCCnuVdLYw3e"
      },
      "source": [
        "Now, we are going to use matplotlib again to plot the model History that recorded training and validation metrics for each epoch. The results obtained in history for Loss, Accuracy, Precision, Recall and F1 score for Training in blue and Validation in orange."
      ]
    },
    {
      "attachments": {},
      "cell_type": "markdown",
      "metadata": {
        "id": "SDRwi8jzYw3f"
      },
      "source": [
        "### Loss"
      ]
    },
    {
      "cell_type": "code",
      "execution_count": 172,
      "metadata": {
        "colab": {
          "base_uri": "https://localhost:8080/",
          "height": 472
        },
        "id": "6NgW_kmwYw3g",
        "outputId": "45f88b01-58c1-4c96-a76e-84d8369ef08a",
        "trusted": true
      },
      "outputs": [
        {
          "data": {
            "image/png": "[encoded data removed]",
            "text/plain": [
              "<Figure size 640x480 with 1 Axes>"
            ]
          },
          "metadata": {},
          "output_type": "display_data"
        }
      ],
      "source": [
        "plt.plot(history.history['loss'])\n",
        "plt.plot(history.history['val_loss'])\n",
        "\n",
        "plt.title('model loss')\n",
        "plt.ylabel('loss')\n",
        "plt.xlabel('epoch')\n",
        "plt.legend(['train','val'], loc='upper left')\n",
        "\n",
        "plt.show()"
      ]
    },
    {
      "attachments": {},
      "cell_type": "markdown",
      "metadata": {
        "id": "u_8-6tjYYw3h"
      },
      "source": [
        "### Accuracy"
      ]
    },
    {
      "cell_type": "code",
      "execution_count": 173,
      "metadata": {
        "colab": {
          "base_uri": "https://localhost:8080/",
          "height": 472
        },
        "id": "_UjnSofaYw3i",
        "outputId": "32555bdf-420c-4916-d4a5-142aab2c913f",
        "trusted": true
      },
      "outputs": [
        {
          "data": {
            "image/png": "[encoded data removed]",
            "text/plain": [
              "<Figure size 640x480 with 1 Axes>"
            ]
          },
          "metadata": {},
          "output_type": "display_data"
        }
      ],
      "source": [
        "plt.plot(history.history['acc'])\n",
        "plt.plot(history.history['val_acc'])\n",
        "\n",
        "plt.title('model accuracy')\n",
        "plt.ylabel('accuracy')\n",
        "plt.xlabel('epoch')\n",
        "plt.legend(['train','val'], loc='upper left')\n",
        "plt.show()\n"
      ]
    },
    {
      "attachments": {},
      "cell_type": "markdown",
      "metadata": {
        "id": "xXnPfRsgYw3j"
      },
      "source": [
        "### Precision"
      ]
    },
    {
      "cell_type": "code",
      "execution_count": 174,
      "metadata": {
        "colab": {
          "base_uri": "https://localhost:8080/",
          "height": 472
        },
        "id": "mUDSCpYuYw3k",
        "outputId": "c5ce360e-69ac-4a9b-b322-f7bb672fd580",
        "trusted": true
      },
      "outputs": [
        {
          "data": {
            "image/png": "[encoded data removed]",
            "text/plain": [
              "<Figure size 640x480 with 1 Axes>"
            ]
          },
          "metadata": {},
          "output_type": "display_data"
        }
      ],
      "source": [
        "plt.plot(history.history['precision_m'])\n",
        "plt.plot(history.history['val_precision_m'])\n",
        "\n",
        "plt.title('model precision')\n",
        "plt.ylabel('precision')\n",
        "plt.xlabel('epoch')\n",
        "plt.legend(['train','val'], loc='upper left')\n",
        "plt.show()\n"
      ]
    },
    {
      "attachments": {},
      "cell_type": "markdown",
      "metadata": {
        "id": "ZsD5hrJYYw3m"
      },
      "source": [
        "### Recall"
      ]
    },
    {
      "cell_type": "code",
      "execution_count": 175,
      "metadata": {
        "colab": {
          "base_uri": "https://localhost:8080/",
          "height": 472
        },
        "id": "6usfei0hYw3n",
        "outputId": "16c56d3e-a53c-4979-b058-a3a5a7daf26f",
        "trusted": true
      },
      "outputs": [
        {
          "data": {
            "image/png": "[encoded data removed]",
            "text/plain": [
              "<Figure size 640x480 with 1 Axes>"
            ]
          },
          "metadata": {},
          "output_type": "display_data"
        }
      ],
      "source": [
        "plt.plot(history.history['recall_m'])\n",
        "plt.plot(history.history['val_recall_m'])\n",
        "\n",
        "plt.title('model recall')\n",
        "plt.ylabel('recall')\n",
        "plt.xlabel('epoch')\n",
        "plt.legend(['train','val'], loc='upper left')\n",
        "plt.show()\n"
      ]
    },
    {
      "attachments": {},
      "cell_type": "markdown",
      "metadata": {
        "id": "jZRcC9ZQYw3p"
      },
      "source": [
        "### F1 Score"
      ]
    },
    {
      "cell_type": "code",
      "execution_count": 176,
      "metadata": {
        "colab": {
          "base_uri": "https://localhost:8080/",
          "height": 472
        },
        "id": "mY5xCtqYYw3p",
        "outputId": "3895f3d6-63f6-4604-fb95-cc5f972228ff",
        "trusted": true
      },
      "outputs": [
        {
          "data": {
            "image/png": "[encoded data removed]",
            "text/plain": [
              "<Figure size 640x480 with 1 Axes>"
            ]
          },
          "metadata": {},
          "output_type": "display_data"
        }
      ],
      "source": [
        "plt.plot(history.history['f1_m'])\n",
        "plt.plot(history.history['val_f1_m'])\n",
        "\n",
        "plt.title('model F1')\n",
        "plt.ylabel('f1')\n",
        "plt.xlabel('epoch')\n",
        "plt.legend(['train','val'], loc='upper left')\n",
        "plt.show()\n"
      ]
    },
    {
      "attachments": {},
      "cell_type": "markdown",
      "metadata": {
        "id": "D1_BFTmiYw3q"
      },
      "source": [
        "It seems like a very good model. The training and validation shows good results and are both always close to each other. Also the model keeps improving each epoch."
      ]
    },
    {
      "attachments": {},
      "cell_type": "markdown",
      "metadata": {
        "id": "G_ZdGp_JYw3r"
      },
      "source": [
        "<a id=\"TE\"></a>\n",
        "## 9.2 - Test Evaluate"
      ]
    },
    {
      "attachments": {},
      "cell_type": "markdown",
      "metadata": {
        "id": "nQQksjeQYw3r"
      },
      "source": [
        "Now let's evaluate in the training and in testing dfs."
      ]
    },
    {
      "cell_type": "code",
      "execution_count": 177,
      "metadata": {
        "colab": {
          "base_uri": "https://localhost:8080/"
        },
        "id": "Wj0IoT6pYw3s",
        "outputId": "2ec79e5f-523c-4742-b8a8-2e67851c89dd",
        "trusted": true
      },
      "outputs": [
        {
          "name": "stdout",
          "output_type": "stream",
          "text": [
            "3636/3636 [==============================] - 13s 4ms/step - loss: 0.2462 - acc: 0.8502 - f1_m: 0.8504 - precision_m: 0.8699 - recall_m: 0.8324\n",
            "527/527 [==============================] - 2s 3ms/step - loss: 0.2981 - acc: 0.8227 - f1_m: 0.8217 - precision_m: 0.8386 - recall_m: 0.8059\n"
          ]
        }
      ],
      "source": [
        "score_train = model.evaluate(X_ov[:,:20], y_ov, verbose=1)\n",
        "score_test = model.evaluate(X_test[:,:20], y_test, verbose=1)"
      ]
    },
    {
      "cell_type": "code",
      "execution_count": 178,
      "metadata": {
        "colab": {
          "base_uri": "https://localhost:8080/",
          "height": 112
        },
        "id": "ulOFIYl4Yw3t",
        "outputId": "a3608b2a-15d9-40bc-a6eb-c7494e7af2dd",
        "trusted": true
      },
      "outputs": [
        {
          "data": {
            "text/html": [
              "\n",
              "  <div id=\"df-159fab68-af35-48a5-ac1a-da7a0274f1ee\">\n",
              "    <div class=\"colab-df-container\">\n",
              "      <div>\n",
              "<style scoped>\n",
              "    .dataframe tbody tr th:only-of-type {\n",
              "        vertical-align: middle;\n",
              "    }\n",
              "\n",
              "    .dataframe tbody tr th {\n",
              "        vertical-align: top;\n",
              "    }\n",
              "\n",
              "    .dataframe thead th {\n",
              "        text-align: right;\n",
              "    }\n",
              "</style>\n",
              "<table border=\"1\" class=\"dataframe\">\n",
              "  <thead>\n",
              "    <tr style=\"text-align: right;\">\n",
              "      <th></th>\n",
              "      <th>Loss</th>\n",
              "      <th>Accuracy</th>\n",
              "      <th>Precision</th>\n",
              "      <th>Recall</th>\n",
              "      <th>F1-Score</th>\n",
              "    </tr>\n",
              "  </thead>\n",
              "  <tbody>\n",
              "    <tr>\n",
              "      <th>Train Score</th>\n",
              "      <td>0.246187</td>\n",
              "      <td>0.850177</td>\n",
              "      <td>0.869919</td>\n",
              "      <td>0.832443</td>\n",
              "      <td>0.850419</td>\n",
              "    </tr>\n",
              "    <tr>\n",
              "      <th>Test Score</th>\n",
              "      <td>0.298116</td>\n",
              "      <td>0.822709</td>\n",
              "      <td>0.838623</td>\n",
              "      <td>0.805918</td>\n",
              "      <td>0.821655</td>\n",
              "    </tr>\n",
              "  </tbody>\n",
              "</table>\n",
              "</div>\n",
              "      <button class=\"colab-df-convert\" onclick=\"convertToInteractive('df-159fab68-af35-48a5-ac1a-da7a0274f1ee')\"\n",
              "              title=\"Convert this dataframe to an interactive table.\"\n",
              "              style=\"display:none;\">\n",
              "        \n",
              "  <svg xmlns=\"http://www.w3.org/2000/svg\" height=\"24px\"viewBox=\"0 0 24 24\"\n",
              "       width=\"24px\">\n",
              "    <path d=\"M0 0h24v24H0V0z\" fill=\"none\"/>\n",
              "    <path d=\"M18.56 5.44l.94 2.06.94-2.06 2.06-.94-2.06-.94-.94-2.06-.94 2.06-2.06.94zm-11 1L8.5 8.5l.94-2.06 2.06-.94-2.06-.94L8.5 2.5l-.94 2.06-2.06.94zm10 10l.94 2.06.94-2.06 2.06-.94-2.06-.94-.94-2.06-.94 2.06-2.06.94z\"/><path d=\"M17.41 7.96l-1.37-1.37c-.4-.4-.92-.59-1.43-.59-.52 0-1.04.2-1.43.59L10.3 9.45l-7.72 7.72c-.78.78-.78 2.05 0 2.83L4 21.41c.39.39.9.59 1.41.59.51 0 1.02-.2 1.41-.59l7.78-7.78 2.81-2.81c.8-.78.8-2.07 0-2.86zM5.41 20L4 18.59l7.72-7.72 1.47 1.35L5.41 20z\"/>\n",
              "  </svg>\n",
              "      </button>\n",
              "      \n",
              "  <style>\n",
              "    .colab-df-container {\n",
              "      display:flex;\n",
              "      flex-wrap:wrap;\n",
              "      gap: 12px;\n",
              "    }\n",
              "\n",
              "    .colab-df-convert {\n",
              "      background-color: #E8F0FE;\n",
              "      border: none;\n",
              "      border-radius: 50%;\n",
              "      cursor: pointer;\n",
              "      display: none;\n",
              "      fill: #1967D2;\n",
              "      height: 32px;\n",
              "      padding: 0 0 0 0;\n",
              "      width: 32px;\n",
              "    }\n",
              "\n",
              "    .colab-df-convert:hover {\n",
              "      background-color: #E2EBFA;\n",
              "      box-shadow: 0px 1px 2px rgba(60, 64, 67, 0.3), 0px 1px 3px 1px rgba(60, 64, 67, 0.15);\n",
              "      fill: #174EA6;\n",
              "    }\n",
              "\n",
              "    [theme=dark] .colab-df-convert {\n",
              "      background-color: #3B4455;\n",
              "      fill: #D2E3FC;\n",
              "    }\n",
              "\n",
              "    [theme=dark] .colab-df-convert:hover {\n",
              "      background-color: #434B5C;\n",
              "      box-shadow: 0px 1px 3px 1px rgba(0, 0, 0, 0.15);\n",
              "      filter: drop-shadow(0px 1px 2px rgba(0, 0, 0, 0.3));\n",
              "      fill: #FFFFFF;\n",
              "    }\n",
              "  </style>\n",
              "\n",
              "      <script>\n",
              "        const buttonEl =\n",
              "          document.querySelector('#df-159fab68-af35-48a5-ac1a-da7a0274f1ee button.colab-df-convert');\n",
              "        buttonEl.style.display =\n",
              "          google.colab.kernel.accessAllowed ? 'block' : 'none';\n",
              "\n",
              "        async function convertToInteractive(key) {\n",
              "          const element = document.querySelector('#df-159fab68-af35-48a5-ac1a-da7a0274f1ee');\n",
              "          const dataTable =\n",
              "            await google.colab.kernel.invokeFunction('convertToInteractive',\n",
              "                                                     [key], {});\n",
              "          if (!dataTable) return;\n",
              "\n",
              "          const docLinkHtml = 'Like what you see? Visit the ' +\n",
              "            '<a target=\"_blank\" href=https://colab.research.google.com/notebooks/data_table.ipynb>data table notebook</a>'\n",
              "            + ' to learn more about interactive tables.';\n",
              "          element.innerHTML = '';\n",
              "          dataTable['output_type'] = 'display_data';\n",
              "          await google.colab.output.renderOutput(dataTable, element);\n",
              "          const docLink = document.createElement('div');\n",
              "          docLink.innerHTML = docLinkHtml;\n",
              "          element.appendChild(docLink);\n",
              "        }\n",
              "      </script>\n",
              "    </div>\n",
              "  </div>\n",
              "  "
            ],
            "text/plain": [
              "                 Loss  Accuracy  Precision    Recall  F1-Score\n",
              "Train Score  0.246187  0.850177   0.869919  0.832443  0.850419\n",
              "Test Score   0.298116  0.822709   0.838623  0.805918  0.821655"
            ]
          },
          "execution_count": 178,
          "metadata": {},
          "output_type": "execute_result"
        }
      ],
      "source": [
        "score = pd.DataFrame({'Loss':[score_train[0],score_test[0]],\n",
        "             'Accuracy':[score_train[1],score_test[1]],\n",
        "             'Precision':[score_train[3],score_test[3]],\n",
        "             'Recall':[score_train[4],score_test[4]],\n",
        "             'F1-Score':[score_train[2],score_test[2]]\n",
        "                     },\n",
        "             index=['Train Score','Test Score'])\n",
        "\n",
        "score"
      ]
    },
    {
      "attachments": {},
      "cell_type": "markdown",
      "metadata": {
        "id": "kIXCIY4BYw3u"
      },
      "source": [
        "Low Loss but high in the test, good Accuracy, Precision, Recall and F1-score for both data frames. Excellent! :)"
      ]
    },
    {
      "attachments": {},
      "cell_type": "markdown",
      "metadata": {
        "id": "3hfbQc0OYw3u"
      },
      "source": [
        "<a id=\"TF\"></a>\n",
        "## 9.3 - Test Function"
      ]
    },
    {
      "attachments": {},
      "cell_type": "markdown",
      "metadata": {
        "id": "2tSlkvEVYw3u"
      },
      "source": [
        "For the final test we will build a function that puts everything that we learned into context.\n",
        " The following function will apply our pipeline for text preprocessing, classify a comment with our model and will return if the comment  is Positive, Negative or Neutral.\n",
        "\n",
        "Let's see if the model is really accurate in real world comments. 😏"
      ]
    },
    {
      "cell_type": "code",
      "execution_count": 179,
      "metadata": {
        "id": "LRwbMznuYw3v",
        "trusted": true
      },
      "outputs": [],
      "source": [
        "def sentiment_analysis(text, pipeline, model):\n",
        "    \n",
        "    # Applying the pipeline\n",
        "    if type(text) is not list:\n",
        "        text = [text]\n",
        "        text_prep = text_prep_pipeline.fit_transform(text)\n",
        "        text_prep = tokenizer.texts_to_sequences(text_prep)\n",
        "        matrix = pad_sequences(text_prep, padding='post', maxlen=20)\n",
        "        # Predicting sentiment\n",
        "        proba = model.predict(matrix)\n",
        "    \n",
        "    \n",
        "    # Plotting the sentiment and its score\n",
        "    fig, ax = plt.subplots(figsize=(5, 3))\n",
        "    \n",
        "    if proba.argmax() == 0 :\n",
        "        text = 'Negative'\n",
        "        class_proba = int(proba[0][0].round(2)*100)\n",
        "        color = 'Crimson'\n",
        "        \n",
        "    elif proba.argmax() == 1 :\n",
        "        text = 'Neutral'\n",
        "        class_proba = int(proba[0][1].round(2)*100) \n",
        "        color = 'Lightgrey'\n",
        "       \n",
        "    elif proba.argmax() == 2 :\n",
        "        text = 'Positive'\n",
        "        class_proba = int(proba[0][2].round(2)*100) \n",
        "        color = 'DeepSkyBlue'\n",
        "        \n",
        "    ax.text(0.5, 0.5, text, fontsize=50, ha='center', color=color)\n",
        "    ax.text(0.5, 0.20, str(class_proba) + '%', fontsize=14, ha='center')\n",
        "    ax.axis('off')\n",
        "    ax.set_title('Sentiment Analysis', fontsize=14)\n",
        "    plt.show()\n",
        "    "
      ]
    },
    {
      "cell_type": "code",
      "execution_count": 180,
      "metadata": {
        "id": "hQBRghz8Yw3v",
        "trusted": true
      },
      "outputs": [],
      "source": [
        "#Positive\n",
        "\n",
        "comment = \"The prices are amazing and the shipping is really fast! Thank for everything ajio!\""
      ]
    },
    {
      "cell_type": "code",
      "execution_count": 181,
      "metadata": {
        "colab": {
          "base_uri": "https://localhost:8080/",
          "height": 308
        },
        "id": "SilWhxo6Yw3v",
        "outputId": "76d4806f-932a-4de5-bd80-a057b8247bd6",
        "trusted": true
      },
      "outputs": [
        {
          "name": "stdout",
          "output_type": "stream",
          "text": [
            "1/1 [==============================] - 0s 384ms/step\n"
          ]
        },
        {
          "data": {
            "image/png": "[encoded data removed]",
            "text/plain": [
              "<Figure size 500x300 with 1 Axes>"
            ]
          },
          "metadata": {},
          "output_type": "display_data"
        }
      ],
      "source": [
        "sentiment_analysis(comment, pipeline=text_prep_pipeline,  model=model)"
      ]
    },
    {
      "cell_type": "code",
      "execution_count": 182,
      "metadata": {
        "id": "KSmtmePlYw3w",
        "trusted": true
      },
      "outputs": [],
      "source": [
        "# Negative\n",
        "\n",
        "comment = \"I lost my money. I contact the custom service and they tell to wait receive item but not received yet\""
      ]
    },
    {
      "cell_type": "code",
      "execution_count": 183,
      "metadata": {
        "colab": {
          "base_uri": "https://localhost:8080/",
          "height": 308
        },
        "id": "ZYsBCEpjYw3w",
        "outputId": "30470036-e1c4-456f-8574-e499e75f6271",
        "trusted": true
      },
      "outputs": [
        {
          "name": "stdout",
          "output_type": "stream",
          "text": [
            "1/1 [==============================] - 0s 21ms/step\n"
          ]
        },
        {
          "data": {
            "image/png": "[encoded data removed]",
            "text/plain": [
              "<Figure size 500x300 with 1 Axes>"
            ]
          },
          "metadata": {},
          "output_type": "display_data"
        }
      ],
      "source": [
        "sentiment_analysis(comment, pipeline=text_prep_pipeline, model=model)"
      ]
    },
    {
      "cell_type": "code",
      "execution_count": 184,
      "metadata": {
        "id": "eaARSOIIYw3w",
        "trusted": true
      },
      "outputs": [],
      "source": [
        "# Neutral\n",
        "comment = \"Overall app is ok. But i really want some improvements in the next update.\""
      ]
    },
    {
      "cell_type": "code",
      "execution_count": 185,
      "metadata": {
        "colab": {
          "base_uri": "https://localhost:8080/",
          "height": 308
        },
        "id": "fWL8Jv6RYw3x",
        "outputId": "c13be208-b7bd-490c-b00d-4c7919e24f7e",
        "trusted": true
      },
      "outputs": [
        {
          "name": "stdout",
          "output_type": "stream",
          "text": [
            "1/1 [==============================] - 0s 21ms/step\n"
          ]
        },
        {
          "data": {
            "image/png": "[encoded data removed]",
            "text/plain": [
              "<Figure size 500x300 with 1 Axes>"
            ]
          },
          "metadata": {},
          "output_type": "display_data"
        }
      ],
      "source": [
        "sentiment_analysis(text=comment, pipeline=text_prep_pipeline, model=model)"
      ]
    },
    {
      "attachments": {},
      "cell_type": "markdown",
      "metadata": {
        "id": "XkCFgJLVYw3x"
      },
      "source": [
        "<a id=\"CON\"></a>\n",
        "# 10 - Conclusion "
      ]
    },
    {
      "attachments": {},
      "cell_type": "markdown",
      "metadata": {
        "id": "zUfjQ1LUK1ZN"
      },
      "source": [
        "### The conclusion of the project is that the customer care service provided by Ajio is very low. This is a significant issue that needs to be addressed. If Ajio plans to find a solution to improve their customer care service, it will have a positive impact on their sales. By enhancing the customer care service experience, Ajio can increase customer satisfaction, build trust, and foster loyalty, ultimately leading to improved sales performance. Prioritizing customer service improvements can help Ajio differentiate itself from competitors and create a positive reputation in the market.\n"
      ]
    },
    {
      "attachments": {},
      "cell_type": "markdown",
      "metadata": {
        "id": "KqgvB1DtLgvG"
      },
      "source": [
        " ## In this project, the focus is not limited to the Ajio app specifically. The project can be applied to any app by copying the App Store and Play Store ID of the respective app. By doing so, the project can analyze the app's reviews and provide insights into the problems or issues users are facing with the app. This approach allows for a comprehensive assessment of the app's performance and user satisfaction, enabling the identification of areas for improvement. The project's findings can be utilized to enhance the app's features, functionality, and overall user experience, leading to better customer satisfaction and potentially increased usage and sales."
      ]
    },
    {
      "cell_type": "code",
      "execution_count": null,
      "metadata": {
        "id": "xbCZv2cJYw3y",
        "trusted": true
      },
      "outputs": [],
      "source": []
    }
  ],
  "metadata": {
    "accelerator": "GPU",
    "colab": {
      "gpuType": "T4",
      "provenance": []
    },
    "gpuClass": "standard",
    "kernelspec": {
      "display_name": "Python 3",
      "language": "python",
      "name": "python3"
    },
    "language_info": {
      "codemirror_mode": {
        "name": "ipython",
        "version": 3
      },
      "file_extension": ".py",
      "mimetype": "text/x-python",
      "name": "python",
      "nbconvert_exporter": "python",
      "pygments_lexer": "ipython3",
      "version": "3.11.1"
    },
    "orig_nbformat": 4
  },
  "nbformat": 4,
  "nbformat_minor": 0
}
